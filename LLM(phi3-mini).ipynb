{
 "cells": [
  {
   "cell_type": "code",
   "execution_count": 2,
   "metadata": {},
   "outputs": [
    {
     "name": "stderr",
     "output_type": "stream",
     "text": [
      "/opt/homebrew/lib/python3.11/site-packages/tqdm/auto.py:21: TqdmWarning: IProgress not found. Please update jupyter and ipywidgets. See https://ipywidgets.readthedocs.io/en/stable/user_install.html\n",
      "  from .autonotebook import tqdm as notebook_tqdm\n",
      "Fetching 13 files: 100%|██████████| 13/13 [00:00<00:00, 159900.15it/s]\n",
      "Special tokens have been added in the vocabulary, make sure the associated word embeddings are fine-tuned or trained.\n"
     ]
    }
   ],
   "source": [
    "from mlx_lm import load, generate\n",
    "\n",
    "model, tokenizer = load(\"microsoft/Phi-3-mini-4k-instruct\")"
   ]
  },
  {
   "cell_type": "code",
   "execution_count": 17,
   "metadata": {},
   "outputs": [
    {
     "data": {
      "text/plain": [
       "'Is there any official announcement from the National Testing Agency confirming the postponement of NEET PG 2024?'"
      ]
     },
     "execution_count": 17,
     "metadata": {},
     "output_type": "execute_result"
    }
   ],
   "source": [
    "query = '''\n",
    "<|user|>\n",
    "You're tasked with fact-checking news headlines for accuracy. \n",
    "Given a headline, generate 1 question that needs to be true to verify the \n",
    "headlines authenticity using a Google search to scrape the answer from the quick search box. \n",
    "Ask the crucial questions first. Your output should only be one question in string for me to ingest in my backend without any other text. \n",
    "The headline is : NEET PG 2024 Postponed<|end|>\n",
    "<|assistant|>'''\n",
    "response = generate(model, tokenizer, prompt=query)\n",
    "response = response.replace('<|end|>','')\n",
    "response"
   ]
  },
  {
   "cell_type": "code",
   "execution_count": 16,
   "metadata": {},
   "outputs": [
    {
     "data": {
      "text/plain": [
       "\"Does the International Cricket Council (ICC) officially announce India as the winner of the 2023 Men's Cricket World Cup?\""
      ]
     },
     "execution_count": 16,
     "metadata": {},
     "output_type": "execute_result"
    }
   ],
   "source": [
    "query = '''\n",
    "<|user|>\n",
    "You're tasked with fact-checking news headlines for accuracy. \n",
    "Given a headline, generate 1 question that needs to be true to verify the \n",
    "headlines authenticity using a Google search to scrape the answer from the quick search box. \n",
    "Ask the crucial questions first. Your output should only be one question in string for me to ingest in my backend without any other text. \n",
    "The headline is : India wins 2023 ICC Mens Cricket World Cup<|end|>\n",
    "<|assistant|>'''\n",
    "response = generate(model, tokenizer, prompt=query)\n",
    "response = response.replace('<|end|>','')\n",
    "response"
   ]
  },
  {
   "cell_type": "code",
   "execution_count": 9,
   "metadata": {},
   "outputs": [
    {
     "data": {
      "text/plain": [
       "'\"Has India won the 2024 T20 World Cup?\"'"
      ]
     },
     "execution_count": 9,
     "metadata": {},
     "output_type": "execute_result"
    }
   ],
   "source": [
    "query = '''\n",
    "<|user|>\n",
    "You're tasked with fact-checking news headlines for accuracy. \n",
    "Given a headline, generate 1 question that needs to be true to verify the \n",
    "headlines authenticity using a Google search to scrape the answer from the quick search box. \n",
    "Ask the crucial questions first. Your output should only be one question in string for me to ingest in my backend without any other text. \n",
    "The headline is : India wins 2024 t20 world cup<|end|>\n",
    "<|assistant|>'''\n",
    "response = generate(model, tokenizer, prompt=query)\n",
    "response = response.replace('<|end|>','')\n",
    "response"
   ]
  },
  {
   "cell_type": "code",
   "execution_count": 3,
   "metadata": {},
   "outputs": [
    {
     "data": {
      "text/plain": [
       "'\"What are the recent developments in Turkey\\'s military operations against the Islamic State?\"'"
      ]
     },
     "execution_count": 3,
     "metadata": {},
     "output_type": "execute_result"
    }
   ],
   "source": [
    "headline = 'Turkey expands anti-Islamic State campaign'\n",
    "query = f'''\n",
    "<|user|>\n",
    "You're tasked with fact-checking news headlines for accuracy. \n",
    "Given a headline, generate 1 question that needs to be true to verify the \n",
    "headlines authenticity using a Google search to scrape the answer from the quick search box. \n",
    "Ask the crucial questions first. Your output should only be one question in string for me to ingest in my backend without any other text. \n",
    "The headline is : {headline} <|end|>\n",
    "<|assistant|>'''\n",
    "response = generate(model, tokenizer, prompt=query)\n",
    "response = response.replace('<|end|>','')\n",
    "response"
   ]
  },
  {
   "cell_type": "code",
   "execution_count": 15,
   "metadata": {},
   "outputs": [
    {
     "data": {
      "text/plain": [
       "\"\\n<|user|>\\nYou're tasked with fact-checking news headlines for accuracy. \\nGiven a headline, generate 1 question that needs to be true to verify the \\nheadlines authenticity using a Google search to scrape the answer from the quick search box. \\nAsk the crucial questions first. Your output should only be one question in string for me to ingest in my backend without any other text. \\nThe headline is : {headline} <|end|>\\n<|assistant|>\""
      ]
     },
     "execution_count": 15,
     "metadata": {},
     "output_type": "execute_result"
    }
   ],
   "source": [
    "query"
   ]
  }
 ],
 "metadata": {
  "kernelspec": {
   "display_name": "Python 3",
   "language": "python",
   "name": "python3"
  },
  "language_info": {
   "codemirror_mode": {
    "name": "ipython",
    "version": 3
   },
   "file_extension": ".py",
   "mimetype": "text/x-python",
   "name": "python",
   "nbconvert_exporter": "python",
   "pygments_lexer": "ipython3",
   "version": "3.11.8"
  }
 },
 "nbformat": 4,
 "nbformat_minor": 2
}
