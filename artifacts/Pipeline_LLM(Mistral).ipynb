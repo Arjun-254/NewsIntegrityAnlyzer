{
 "cells": [
  {
   "cell_type": "markdown",
   "metadata": {},
   "source": [
    "### Data Loading and Label Mapping"
   ]
  },
  {
   "cell_type": "code",
   "execution_count": 1,
   "metadata": {},
   "outputs": [
    {
     "name": "stderr",
     "output_type": "stream",
     "text": [
      "c:\\Users\\hetan\\AppData\\Local\\Programs\\Python\\Python39\\lib\\site-packages\\tqdm\\auto.py:21: TqdmWarning: IProgress not found. Please update jupyter and ipywidgets. See https://ipywidgets.readthedocs.io/en/stable/user_install.html\n",
      "  from .autonotebook import tqdm as notebook_tqdm\n",
      "c:\\Users\\hetan\\AppData\\Local\\Programs\\Python\\Python39\\lib\\site-packages\\transformers\\utils\\generic.py:441: UserWarning: torch.utils._pytree._register_pytree_node is deprecated. Please use torch.utils._pytree.register_pytree_node instead.\n",
      "  _torch_pytree._register_pytree_node(\n"
     ]
    },
    {
     "name": "stdout",
     "output_type": "stream",
     "text": [
      "WARNING:tensorflow:From c:\\Users\\hetan\\AppData\\Local\\Programs\\Python\\Python39\\lib\\site-packages\\keras\\src\\losses.py:2976: The name tf.losses.sparse_softmax_cross_entropy is deprecated. Please use tf.compat.v1.losses.sparse_softmax_cross_entropy instead.\n",
      "\n"
     ]
    },
    {
     "name": "stderr",
     "output_type": "stream",
     "text": [
      "c:\\Users\\hetan\\AppData\\Local\\Programs\\Python\\Python39\\lib\\site-packages\\transformers\\utils\\generic.py:309: UserWarning: torch.utils._pytree._register_pytree_node is deprecated. Please use torch.utils._pytree.register_pytree_node instead.\n",
      "  _torch_pytree._register_pytree_node(\n"
     ]
    }
   ],
   "source": [
    "#IMPORTS\n",
    "import numpy as np\n",
    "import pandas as pd\n",
    "import matplotlib.pyplot as plt\n",
    "from transformers import AutoTokenizer, AutoModelForSequenceClassification,pipeline\n",
    "from googlesearch import search\n",
    "from bs4 import BeautifulSoup\n",
    "import requests\n",
    "from sklearn.metrics import accuracy_score, precision_score, recall_score, f1_score\n",
    "import time\n",
    "from scraping_selenium import people_also_ask\n",
    "import re\n",
    "from selenium import webdriver\n",
    "from selenium.webdriver.common.by import By\n",
    "from selenium.webdriver.chrome.service import Service\n",
    "from selenium.webdriver.chrome.options import Options\n",
    "import pandas as pd"
   ]
  },
  {
   "cell_type": "code",
   "execution_count": 2,
   "metadata": {},
   "outputs": [
    {
     "data": {
      "text/html": [
       "<div>\n",
       "<style scoped>\n",
       "    .dataframe tbody tr th:only-of-type {\n",
       "        vertical-align: middle;\n",
       "    }\n",
       "\n",
       "    .dataframe tbody tr th {\n",
       "        vertical-align: top;\n",
       "    }\n",
       "\n",
       "    .dataframe thead th {\n",
       "        text-align: right;\n",
       "    }\n",
       "</style>\n",
       "<table border=\"1\" class=\"dataframe\">\n",
       "  <thead>\n",
       "    <tr style=\"text-align: right;\">\n",
       "      <th></th>\n",
       "      <th>Headline</th>\n",
       "      <th>Source</th>\n",
       "      <th>Question_phi</th>\n",
       "      <th>Question_Mistral</th>\n",
       "      <th>Label</th>\n",
       "    </tr>\n",
       "  </thead>\n",
       "  <tbody>\n",
       "    <tr>\n",
       "      <th>0</th>\n",
       "      <td>NASA’s Perseverance rover finds its first poss...</td>\n",
       "      <td>sciencenews.org</td>\n",
       "      <td>\"Has NASA's Perseverance rover discovered evid...</td>\n",
       "      <td>\"Has NASA officially announced the discovery o...</td>\n",
       "      <td>True</td>\n",
       "    </tr>\n",
       "    <tr>\n",
       "      <th>1</th>\n",
       "      <td>Sepsis tests take days  putting patients at ri...</td>\n",
       "      <td>sciencenews.org</td>\n",
       "      <td>\"What is the current average wait time for sep...</td>\n",
       "      <td>\"Is there a recent study or research that show...</td>\n",
       "      <td>True</td>\n",
       "    </tr>\n",
       "    <tr>\n",
       "      <th>2</th>\n",
       "      <td>Nasa's DART asteroid unlocks complex history o...</td>\n",
       "      <td>https://timesofindia.indiatimes.com/</td>\n",
       "      <td>\"What is the history of NASA's DART mission an...</td>\n",
       "      <td>\"Has NASA's DART mission provided evidence of ...</td>\n",
       "      <td>True</td>\n",
       "    </tr>\n",
       "    <tr>\n",
       "      <th>3</th>\n",
       "      <td>Say goodbye to back pain  patients go for adva...</td>\n",
       "      <td>https://timesofindia.indiatimes.com/</td>\n",
       "      <td>\"What are the benefits of advanced endoscopy s...</td>\n",
       "      <td>\"Has 'advanced endoscopy spine surgery for sci...</td>\n",
       "      <td>True</td>\n",
       "    </tr>\n",
       "    <tr>\n",
       "      <th>4</th>\n",
       "      <td>Neurodivergent children more likely to develop...</td>\n",
       "      <td>https://timesofindia.indiatimes.com/</td>\n",
       "      <td>\"What does the study find about the likelihood...</td>\n",
       "      <td>\"Is there a peer-reviewed study titled 'Neurod...</td>\n",
       "      <td>True</td>\n",
       "    </tr>\n",
       "    <tr>\n",
       "      <th>...</th>\n",
       "      <td>...</td>\n",
       "      <td>...</td>\n",
       "      <td>...</td>\n",
       "      <td>...</td>\n",
       "      <td>...</td>\n",
       "    </tr>\n",
       "    <tr>\n",
       "      <th>683</th>\n",
       "      <td>\"Google's parent company faces UK investigatio...</td>\n",
       "      <td>Synthetically Generated</td>\n",
       "      <td>\"Has Google's parent company been investigated...</td>\n",
       "      <td>\"Has Alphabet Inc., Google's parent company, b...</td>\n",
       "      <td>False</td>\n",
       "    </tr>\n",
       "    <tr>\n",
       "      <th>684</th>\n",
       "      <td>\"Intel announces hiring spree to fund recovery...</td>\n",
       "      <td>Synthetically Generated</td>\n",
       "      <td>\"What is the current hiring status of Intel as...</td>\n",
       "      <td>\"Has Intel announced a hiring spree to fund re...</td>\n",
       "      <td>False</td>\n",
       "    </tr>\n",
       "    <tr>\n",
       "      <th>685</th>\n",
       "      <td>\"Ola Electric IPO grey market premium skyrocke...</td>\n",
       "      <td>Synthetically Generated</td>\n",
       "      <td>\"What is the current grey market premium for O...</td>\n",
       "      <td>\"Has the Ola Electric IPO grey market premium ...</td>\n",
       "      <td>False</td>\n",
       "    </tr>\n",
       "    <tr>\n",
       "      <th>686</th>\n",
       "      <td>\"Japan's Nikkei 225 Index Soars 12.4%, Its Big...</td>\n",
       "      <td>Synthetically Generated</td>\n",
       "      <td>\"What was the percentage increase in Japan's N...</td>\n",
       "      <td>1. \"Is there a news article from a reliable so...</td>\n",
       "      <td>False</td>\n",
       "    </tr>\n",
       "    <tr>\n",
       "      <th>687</th>\n",
       "      <td>\"Revolut fails to obtain UK banking license af...</td>\n",
       "      <td>Synthetically Generated</td>\n",
       "      <td>\"What is the current status of Revolut's appli...</td>\n",
       "      <td>\"Is there a recent official announcement from ...</td>\n",
       "      <td>False</td>\n",
       "    </tr>\n",
       "  </tbody>\n",
       "</table>\n",
       "<p>688 rows × 5 columns</p>\n",
       "</div>"
      ],
      "text/plain": [
       "                                              Headline  \\\n",
       "0    NASA’s Perseverance rover finds its first poss...   \n",
       "1    Sepsis tests take days  putting patients at ri...   \n",
       "2    Nasa's DART asteroid unlocks complex history o...   \n",
       "3    Say goodbye to back pain  patients go for adva...   \n",
       "4    Neurodivergent children more likely to develop...   \n",
       "..                                                 ...   \n",
       "683  \"Google's parent company faces UK investigatio...   \n",
       "684  \"Intel announces hiring spree to fund recovery...   \n",
       "685  \"Ola Electric IPO grey market premium skyrocke...   \n",
       "686  \"Japan's Nikkei 225 Index Soars 12.4%, Its Big...   \n",
       "687  \"Revolut fails to obtain UK banking license af...   \n",
       "\n",
       "                                   Source  \\\n",
       "0                         sciencenews.org   \n",
       "1                         sciencenews.org   \n",
       "2    https://timesofindia.indiatimes.com/   \n",
       "3    https://timesofindia.indiatimes.com/   \n",
       "4    https://timesofindia.indiatimes.com/   \n",
       "..                                    ...   \n",
       "683               Synthetically Generated   \n",
       "684               Synthetically Generated   \n",
       "685               Synthetically Generated   \n",
       "686               Synthetically Generated   \n",
       "687               Synthetically Generated   \n",
       "\n",
       "                                          Question_phi  \\\n",
       "0    \"Has NASA's Perseverance rover discovered evid...   \n",
       "1    \"What is the current average wait time for sep...   \n",
       "2    \"What is the history of NASA's DART mission an...   \n",
       "3    \"What are the benefits of advanced endoscopy s...   \n",
       "4    \"What does the study find about the likelihood...   \n",
       "..                                                 ...   \n",
       "683  \"Has Google's parent company been investigated...   \n",
       "684  \"What is the current hiring status of Intel as...   \n",
       "685  \"What is the current grey market premium for O...   \n",
       "686  \"What was the percentage increase in Japan's N...   \n",
       "687  \"What is the current status of Revolut's appli...   \n",
       "\n",
       "                                      Question_Mistral  Label  \n",
       "0    \"Has NASA officially announced the discovery o...   True  \n",
       "1    \"Is there a recent study or research that show...   True  \n",
       "2    \"Has NASA's DART mission provided evidence of ...   True  \n",
       "3    \"Has 'advanced endoscopy spine surgery for sci...   True  \n",
       "4    \"Is there a peer-reviewed study titled 'Neurod...   True  \n",
       "..                                                 ...    ...  \n",
       "683  \"Has Alphabet Inc., Google's parent company, b...  False  \n",
       "684  \"Has Intel announced a hiring spree to fund re...  False  \n",
       "685  \"Has the Ola Electric IPO grey market premium ...  False  \n",
       "686  1. \"Is there a news article from a reliable so...  False  \n",
       "687  \"Is there a recent official announcement from ...  False  \n",
       "\n",
       "[688 rows x 5 columns]"
      ]
     },
     "execution_count": 2,
     "metadata": {},
     "output_type": "execute_result"
    }
   ],
   "source": [
    "df = pd.read_csv('Test_dataset(FINAL).csv')\n",
    "df"
   ]
  },
  {
   "cell_type": "code",
   "execution_count": 3,
   "metadata": {},
   "outputs": [
    {
     "data": {
      "text/html": [
       "<div>\n",
       "<style scoped>\n",
       "    .dataframe tbody tr th:only-of-type {\n",
       "        vertical-align: middle;\n",
       "    }\n",
       "\n",
       "    .dataframe tbody tr th {\n",
       "        vertical-align: top;\n",
       "    }\n",
       "\n",
       "    .dataframe thead th {\n",
       "        text-align: right;\n",
       "    }\n",
       "</style>\n",
       "<table border=\"1\" class=\"dataframe\">\n",
       "  <thead>\n",
       "    <tr style=\"text-align: right;\">\n",
       "      <th></th>\n",
       "      <th>Headline</th>\n",
       "      <th>Source</th>\n",
       "      <th>Question_phi</th>\n",
       "      <th>Question_Mistral</th>\n",
       "      <th>Label</th>\n",
       "    </tr>\n",
       "  </thead>\n",
       "  <tbody>\n",
       "    <tr>\n",
       "      <th>0</th>\n",
       "      <td>King calls for better live performance venues ...</td>\n",
       "      <td>https://www.hindustantimes.com</td>\n",
       "      <td>\"What initiatives has King proposed to improve...</td>\n",
       "      <td>\"Has [King's name] recently made a public stat...</td>\n",
       "      <td>True</td>\n",
       "    </tr>\n",
       "    <tr>\n",
       "      <th>1</th>\n",
       "      <td>India Finish Fourth Again, Miss Out On Olympic...</td>\n",
       "      <td>https://sports.ndtv.com/</td>\n",
       "      <td>\"Did India's mixed team skeet shooting team wi...</td>\n",
       "      <td>\"Has India finished fourth in the Olympics Sho...</td>\n",
       "      <td>True</td>\n",
       "    </tr>\n",
       "    <tr>\n",
       "      <th>2</th>\n",
       "      <td>Alpine Turn To Briton Oliver Oakes As New F1 T...</td>\n",
       "      <td>https://sports.ndtv.com/</td>\n",
       "      <td>\"Who is the new F1 team principal announced by...</td>\n",
       "      <td>\"Has Oliver Oakes been officially announced as...</td>\n",
       "      <td>True</td>\n",
       "    </tr>\n",
       "    <tr>\n",
       "      <th>3</th>\n",
       "      <td>Global crypto market sees massive drop in mark...</td>\n",
       "      <td>https://www.businesstoday.in/</td>\n",
       "      <td>\"What was the market capitalization of the glo...</td>\n",
       "      <td>\"Has the global crypto market experienced a si...</td>\n",
       "      <td>True</td>\n",
       "    </tr>\n",
       "    <tr>\n",
       "      <th>4</th>\n",
       "      <td>\"Elon Musk disrupts Netanyahu's speech to Cong...</td>\n",
       "      <td>Synthetically Generated</td>\n",
       "      <td>\"Did Elon Musk interrupt Netanyahu's speech to...</td>\n",
       "      <td>\"Did Elon Musk attend Netanyahu's speech to Co...</td>\n",
       "      <td>False</td>\n",
       "    </tr>\n",
       "  </tbody>\n",
       "</table>\n",
       "</div>"
      ],
      "text/plain": [
       "                                            Headline  \\\n",
       "0  King calls for better live performance venues ...   \n",
       "1  India Finish Fourth Again, Miss Out On Olympic...   \n",
       "2  Alpine Turn To Briton Oliver Oakes As New F1 T...   \n",
       "3  Global crypto market sees massive drop in mark...   \n",
       "4  \"Elon Musk disrupts Netanyahu's speech to Cong...   \n",
       "\n",
       "                           Source  \\\n",
       "0  https://www.hindustantimes.com   \n",
       "1        https://sports.ndtv.com/   \n",
       "2        https://sports.ndtv.com/   \n",
       "3   https://www.businesstoday.in/   \n",
       "4         Synthetically Generated   \n",
       "\n",
       "                                        Question_phi  \\\n",
       "0  \"What initiatives has King proposed to improve...   \n",
       "1  \"Did India's mixed team skeet shooting team wi...   \n",
       "2  \"Who is the new F1 team principal announced by...   \n",
       "3  \"What was the market capitalization of the glo...   \n",
       "4  \"Did Elon Musk interrupt Netanyahu's speech to...   \n",
       "\n",
       "                                    Question_Mistral  Label  \n",
       "0  \"Has [King's name] recently made a public stat...   True  \n",
       "1  \"Has India finished fourth in the Olympics Sho...   True  \n",
       "2  \"Has Oliver Oakes been officially announced as...   True  \n",
       "3  \"Has the global crypto market experienced a si...   True  \n",
       "4  \"Did Elon Musk attend Netanyahu's speech to Co...  False  "
      ]
     },
     "execution_count": 3,
     "metadata": {},
     "output_type": "execute_result"
    }
   ],
   "source": [
    "# Shuffle the DataFrame\n",
    "df = df.sample(frac=1).reset_index(drop=True)\n",
    "df.head()"
   ]
  },
  {
   "cell_type": "code",
   "execution_count": 4,
   "metadata": {},
   "outputs": [
    {
     "data": {
      "text/plain": [
       "Label\n",
       "True     344\n",
       "False    344\n",
       "Name: count, dtype: int64"
      ]
     },
     "execution_count": 4,
     "metadata": {},
     "output_type": "execute_result"
    }
   ],
   "source": [
    "df['Label'].value_counts()"
   ]
  },
  {
   "cell_type": "code",
   "execution_count": 5,
   "metadata": {},
   "outputs": [
    {
     "data": {
      "text/plain": [
       "<Axes: ylabel='Label'>"
      ]
     },
     "execution_count": 5,
     "metadata": {},
     "output_type": "execute_result"
    },
    {
     "data": {
      "image/png": "[encoded data removed]",
      "text/plain": [
       "<Figure size 640x480 with 1 Axes>"
      ]
     },
     "metadata": {},
     "output_type": "display_data"
    }
   ],
   "source": [
    "df['Label'].value_counts().plot(kind='barh')"
   ]
  },
  {
   "cell_type": "markdown",
   "metadata": {},
   "source": [
    "Article Pipeline Utility"
   ]
  },
  {
   "cell_type": "code",
   "execution_count": 6,
   "metadata": {},
   "outputs": [],
   "source": [
    "\n",
    "def get_top_links(query, num_links=1):\n",
    "    linksgot = []\n",
    "    try:\n",
    "        # Perform Google search and get the top links\n",
    "        search_results = search(query, num_results=num_links)\n",
    "\n",
    "        # Print the top links\n",
    "        for i, link in enumerate(search_results, start=1):\n",
    "            linksgot.append(link)\n",
    "    except Exception as e:\n",
    "        print(f\"An error occurred: {e}\")\n",
    "    return linksgot\n",
    "\n",
    "\n",
    "def get_title_and_content(search_query_results):\n",
    "    article_titles = []\n",
    "    article_content = []\n",
    "\n",
    "    # Set up Selenium options (headless mode if needed)\n",
    "    chrome_options = Options()\n",
    "    chrome_options.add_argument(\"--headless\")\n",
    "    chrome_options.add_argument(\"--no-sandbox\")\n",
    "    chrome_options.add_argument(\"--disable-dev-shm-usage\")\n",
    "    chrome_options.add_argument('log-level=1')\n",
    "\n",
    "    cService = Service(executable_path='../chromedriver-win64/chromedriver.exe')\n",
    "    driver = webdriver.Chrome(service=cService,options=chrome_options)\n",
    "\n",
    "    if search_query_results:\n",
    "        for result in search_query_results:\n",
    "            try:\n",
    "                # Navigate to the URL\n",
    "                driver.get(result)\n",
    "\n",
    "                # Scrape <h1> tags for titles\n",
    "                h1_tags = driver.find_elements(By.TAG_NAME, 'h1')\n",
    "                currenth1 = \" \".join([h1.text for h1 in h1_tags])\n",
    "                article_titles.append(currenth1)\n",
    "\n",
    "                # Scrape <p> tags for content\n",
    "                p_tags = driver.find_elements(By.TAG_NAME, 'p')\n",
    "                currentp = \" \".join([p.text for p in p_tags])\n",
    "                article_content.append(currentp)\n",
    "\n",
    "            except Exception as e:\n",
    "                print(f\"An error occurred: {e}\")\n",
    "\n",
    "    # Quit the driver'\n",
    "    driver.close()\n",
    "    driver.quit()\n",
    "\n",
    "    return article_titles, article_content\n",
    "\n",
    "# Get the titles and contents\n",
    "def make_data(search_query_results):\n",
    "    titles, contents = get_title_and_content(\n",
    "        get_top_links(search_query_results))\n",
    "\n",
    "    # Create a pandas DataFrame\n",
    "    data = {'Title': titles, 'Content': contents}\n",
    "    df = pd.DataFrame(data)\n",
    "    return df"
   ]
  },
  {
   "cell_type": "markdown",
   "metadata": {},
   "source": [
    "### LLM Pipeline"
   ]
  },
  {
   "cell_type": "code",
   "execution_count": 7,
   "metadata": {},
   "outputs": [
    {
     "name": "stderr",
     "output_type": "stream",
     "text": [
      "c:\\Users\\hetan\\AppData\\Local\\Programs\\Python\\Python39\\lib\\site-packages\\transformers\\utils\\generic.py:309: UserWarning: torch.utils._pytree._register_pytree_node is deprecated. Please use torch.utils._pytree.register_pytree_node instead.\n",
      "  _torch_pytree._register_pytree_node(\n"
     ]
    }
   ],
   "source": [
    "#Load FactCC Model pipeline\n",
    "pipe = pipeline(model=\"manueldeprada/FactCC\", task=\"text-classification\", max_length=512)"
   ]
  },
  {
   "cell_type": "code",
   "execution_count": 8,
   "metadata": {},
   "outputs": [],
   "source": [
    "#To answer the question generated by LLM via google\n",
    "def google_search(query):\n",
    "    headers = {\n",
    "        'User-agent':\n",
    "        'Mozilla/5.0 (Windows NT 10.0; Win64; x64) AppleWebKit/537.36 (KHTML, like Gecko) Chrome/101.0.4951.67 Safari/537.36'\n",
    "    }\n",
    "    \n",
    "    # Perform the Google search\n",
    "    search_url = f'https://www.google.com/search?q={query}'\n",
    "    html = requests.get(search_url, headers=headers)\n",
    "    \n",
    "    # Parse the HTML response\n",
    "    soup = BeautifulSoup(html.text, 'html.parser')\n",
    "    \n",
    "    #extract answer from summary answer on google\n",
    "    if soup.select_one('.hgKElc'):\n",
    "        answer = soup.select_one('.hgKElc').text \n",
    "\n",
    "    # Extract the answer (assuming it's in a specific class) -> QUICK ANSWER BOX\n",
    "    elif soup.select_one('.DI6Ufb'):\n",
    "        answer = soup.select_one('.DI6Ufb')\n",
    "        answer = answer.find(class_='Z0LcW t2b5Cf').text\n",
    "        answer=query+' '+answer\n",
    "    \n",
    "    elif not soup.select_one('.DI6Ufb'):\n",
    "        result=people_also_ask(search_url)\n",
    "        # print(\"Result of the Scraping\",result)\n",
    "        if len(result)==2:\n",
    "            answer=f'{result[0]} {result[1]}'\n",
    "        else:\n",
    "            #incase people also asked also comes empty we revert to the article pipeline\n",
    "            scraped_df = make_data(query)\n",
    "            scraped_df.dropna(inplace=True)\n",
    "\n",
    "            # Convert the 'Content' column to strings\n",
    "            scraped_df['Content'] = scraped_df['Content'].astype(str)\n",
    "\n",
    "            # Sort the DataFrame based on the length of the strings in the 'Content' column\n",
    "            scraped_df = scraped_df.sort_values(by='Content', key=lambda x: x.str.len(), ascending=False)\n",
    "\n",
    "            if len(scraped_df) == 0 or not scraped_df['Content'][0] or '403 Forbidden' in scraped_df['Content'][0] or '403 Forbidden' in scraped_df['Title'][0] :\n",
    "                #Could not retrieve articles related to headline, Could possibly be a false claim OR Scraper got blocked/forbidden\n",
    "                return str('Cannot retrieve articles, most likely to be false')\n",
    "\n",
    "            scraped_content = (\n",
    "            f\"{scraped_df['Title'][0]} \\n{scraped_df['Content'][0]}\")\n",
    "            answer = scraped_content\n",
    "    return answer"
   ]
  },
  {
   "cell_type": "code",
   "execution_count": 9,
   "metadata": {},
   "outputs": [],
   "source": [
    "def FactCC_Mistral(input_headline ,Mistral_generated_question):\n",
    "    quickSearchAnswer = google_search(Mistral_generated_question)\n",
    "\n",
    "    #compare scraped info as source and headline as the claim\n",
    "    ans = pipe([[[quickSearchAnswer,Mistral_generated_question]]], truncation=True, padding='max_length')\n",
    "\n",
    "    # print('Input headline : ', input_headline)\n",
    "    # print('Mistral Generated Question : ', Mistral_generated_question)\n",
    "    # print('Scraped Answer : ', quickSearchAnswer)\n",
    "    if ans[0]['label'] == 'CORRECT':\n",
    "        return True,quickSearchAnswer\n",
    "    else:\n",
    "        return False,quickSearchAnswer"
   ]
  },
  {
   "cell_type": "code",
   "execution_count": 10,
   "metadata": {},
   "outputs": [
    {
     "name": "stdout",
     "output_type": "stream",
     "text": [
      "People Also Asked questions dont exist for this category\n",
      "An error occurred: 429 Client Error: Too Many Requests for url: https://www.google.com/sorry/index?continue=https://www.google.com/search%3Fq%3D%2522Has%252B%255BKing%2527s%252Bname%255D%252Brecently%252Bmade%252Ba%252Bpublic%252Bstatement%252Badvocating%252Bfor%252Bbetter%252Blive%252Bperformance%252Bvenues%252Bto%252Bsupport%252Bemerging%252Bartistes%253F%2522%26num%3D3%26hl%3Den%26start%3D0&hl=en&q=EgTLXD6CGI_x7bUGIjCwUlBcsDbV9ntzxB5XrI0jmkRbi8W2rhHxcSdd1HeHqJB-gkfokOTVEFJYGrOnPg0yAXJaAUM\n",
      "False True\n",
      "Incorrect Decision\n"
     ]
    }
   ],
   "source": [
    "model_decision, scraped_content = FactCC_Mistral(df['Headline'][0],df['Question_Mistral'][0])\n",
    "actual_decision = df['Label'][0]\n",
    "print(model_decision,actual_decision)\n",
    "if (model_decision) == (actual_decision):\n",
    "    print('Correct Decision')\n",
    "else:\n",
    "    print('Incorrect Decision')"
   ]
  },
  {
   "cell_type": "code",
   "execution_count": 11,
   "metadata": {},
   "outputs": [
    {
     "data": {
      "text/html": [
       "<div>\n",
       "<style scoped>\n",
       "    .dataframe tbody tr th:only-of-type {\n",
       "        vertical-align: middle;\n",
       "    }\n",
       "\n",
       "    .dataframe tbody tr th {\n",
       "        vertical-align: top;\n",
       "    }\n",
       "\n",
       "    .dataframe thead th {\n",
       "        text-align: right;\n",
       "    }\n",
       "</style>\n",
       "<table border=\"1\" class=\"dataframe\">\n",
       "  <thead>\n",
       "    <tr style=\"text-align: right;\">\n",
       "      <th></th>\n",
       "      <th>Headline</th>\n",
       "      <th>Source</th>\n",
       "      <th>Question_phi</th>\n",
       "      <th>Question_Mistral</th>\n",
       "      <th>Label</th>\n",
       "    </tr>\n",
       "  </thead>\n",
       "  <tbody>\n",
       "    <tr>\n",
       "      <th>0</th>\n",
       "      <td>King calls for better live performance venues ...</td>\n",
       "      <td>https://www.hindustantimes.com</td>\n",
       "      <td>\"What initiatives has King proposed to improve...</td>\n",
       "      <td>\"Has [King's name] recently made a public stat...</td>\n",
       "      <td>True</td>\n",
       "    </tr>\n",
       "    <tr>\n",
       "      <th>1</th>\n",
       "      <td>India Finish Fourth Again, Miss Out On Olympic...</td>\n",
       "      <td>https://sports.ndtv.com/</td>\n",
       "      <td>\"Did India's mixed team skeet shooting team wi...</td>\n",
       "      <td>\"Has India finished fourth in the Olympics Sho...</td>\n",
       "      <td>True</td>\n",
       "    </tr>\n",
       "    <tr>\n",
       "      <th>2</th>\n",
       "      <td>Alpine Turn To Briton Oliver Oakes As New F1 T...</td>\n",
       "      <td>https://sports.ndtv.com/</td>\n",
       "      <td>\"Who is the new F1 team principal announced by...</td>\n",
       "      <td>\"Has Oliver Oakes been officially announced as...</td>\n",
       "      <td>True</td>\n",
       "    </tr>\n",
       "    <tr>\n",
       "      <th>3</th>\n",
       "      <td>Global crypto market sees massive drop in mark...</td>\n",
       "      <td>https://www.businesstoday.in/</td>\n",
       "      <td>\"What was the market capitalization of the glo...</td>\n",
       "      <td>\"Has the global crypto market experienced a si...</td>\n",
       "      <td>True</td>\n",
       "    </tr>\n",
       "    <tr>\n",
       "      <th>4</th>\n",
       "      <td>\"Elon Musk disrupts Netanyahu's speech to Cong...</td>\n",
       "      <td>Synthetically Generated</td>\n",
       "      <td>\"Did Elon Musk interrupt Netanyahu's speech to...</td>\n",
       "      <td>\"Did Elon Musk attend Netanyahu's speech to Co...</td>\n",
       "      <td>False</td>\n",
       "    </tr>\n",
       "  </tbody>\n",
       "</table>\n",
       "</div>"
      ],
      "text/plain": [
       "                                            Headline  \\\n",
       "0  King calls for better live performance venues ...   \n",
       "1  India Finish Fourth Again, Miss Out On Olympic...   \n",
       "2  Alpine Turn To Briton Oliver Oakes As New F1 T...   \n",
       "3  Global crypto market sees massive drop in mark...   \n",
       "4  \"Elon Musk disrupts Netanyahu's speech to Cong...   \n",
       "\n",
       "                           Source  \\\n",
       "0  https://www.hindustantimes.com   \n",
       "1        https://sports.ndtv.com/   \n",
       "2        https://sports.ndtv.com/   \n",
       "3   https://www.businesstoday.in/   \n",
       "4         Synthetically Generated   \n",
       "\n",
       "                                        Question_phi  \\\n",
       "0  \"What initiatives has King proposed to improve...   \n",
       "1  \"Did India's mixed team skeet shooting team wi...   \n",
       "2  \"Who is the new F1 team principal announced by...   \n",
       "3  \"What was the market capitalization of the glo...   \n",
       "4  \"Did Elon Musk interrupt Netanyahu's speech to...   \n",
       "\n",
       "                                    Question_Mistral  Label  \n",
       "0  \"Has [King's name] recently made a public stat...   True  \n",
       "1  \"Has India finished fourth in the Olympics Sho...   True  \n",
       "2  \"Has Oliver Oakes been officially announced as...   True  \n",
       "3  \"Has the global crypto market experienced a si...   True  \n",
       "4  \"Did Elon Musk attend Netanyahu's speech to Co...  False  "
      ]
     },
     "execution_count": 11,
     "metadata": {},
     "output_type": "execute_result"
    }
   ],
   "source": [
    "df.head() #For testing"
   ]
  },
  {
   "cell_type": "code",
   "execution_count": 12,
   "metadata": {},
   "outputs": [
    {
     "name": "stdout",
     "output_type": "stream",
     "text": [
      "Existing mistral_pipeline.csv has been deleted.\n"
     ]
    },
    {
     "name": "stderr",
     "output_type": "stream",
     "text": [
      "  0%|          | 0/688 [00:00<?, ?it/s]"
     ]
    },
    {
     "name": "stdout",
     "output_type": "stream",
     "text": [
      "People Also Asked questions dont exist for this category\n",
      "An error occurred: 429 Client Error: Too Many Requests for url: https://www.google.com/sorry/index?continue=https://www.google.com/search%3Fq%3D%2522Has%252B%255BKing%2527s%252Bname%255D%252Brecently%252Bmade%252Ba%252Bpublic%252Bstatement%252Badvocating%252Bfor%252Bbetter%252Blive%252Bperformance%252Bvenues%252Bto%252Bsupport%252Bemerging%252Bartistes%253F%2522%26num%3D3%26hl%3Den%26start%3D0&hl=en&q=EgTLXD6CGKPx7bUGIjCQu-Nfrw9r5g1JJwHvSJgwkC3vf1AVr1WzA6NGQmDo7i6eDv-NbvcLnMTLONiHbkwyAXJaAUM\n"
     ]
    },
    {
     "name": "stderr",
     "output_type": "stream",
     "text": [
      "  0%|          | 1/688 [00:22<4:23:12, 22.99s/it]"
     ]
    },
    {
     "name": "stdout",
     "output_type": "stream",
     "text": [
      "People Also Asked questions dont exist for this category\n",
      "An error occurred: 429 Client Error: Too Many Requests for url: https://www.google.com/sorry/index?continue=https://www.google.com/search%3Fq%3D%2522Has%252BIndia%252Bfinished%252Bfourth%252Bin%252Bthe%252BOlympics%252BShooting%252BMixed%252BTeam%252BSkeet%252Bevent%252Bin%252Bthe%252Bmost%252Brecent%252Bgames%253F%2522%26num%3D3%26hl%3Den%26start%3D0&hl=en&q=EgQxzF7eGLrx7bUGIjC5ANGv8AXXRxj6gtk3S3N6VOWae_MrT0z7te1CAYIyInxQvBNTb5Q0ZPTFpySQukkyAXJaAUM\n"
     ]
    },
    {
     "name": "stderr",
     "output_type": "stream",
     "text": [
      "  0%|          | 2/688 [00:45<4:19:45, 22.72s/it]"
     ]
    },
    {
     "name": "stdout",
     "output_type": "stream",
     "text": [
      "People Also Asked questions dont exist for this category\n",
      "An error occurred: 429 Client Error: Too Many Requests for url: https://www.google.com/sorry/index?continue=https://www.google.com/search%3Fq%3D%2522Has%252BOliver%252BOakes%252Bbeen%252Bofficially%252Bannounced%252Bas%252Bthe%252Bnew%252BTeam%252BPrincipal%252Bof%252BAlpine%252BF1%252BTeam%253F%2522%26num%3D3%26hl%3Den%26start%3D0&hl=en&q=EgTLXD6CGNHx7bUGIjBpSRpdJYMgIaD4S9XTz89Taj49kx6UGCDW9JOriAXI1rxmD2zXXysmgcA5kwgmevgyAXJaAUM\n"
     ]
    },
    {
     "name": "stderr",
     "output_type": "stream",
     "text": [
      "  0%|          | 3/688 [01:08<4:19:41, 22.75s/it]"
     ]
    },
    {
     "name": "stdout",
     "output_type": "stream",
     "text": [
      "People Also Asked questions dont exist for this category\n",
      "An error occurred: 429 Client Error: Too Many Requests for url: https://www.google.com/sorry/index?continue=https://www.google.com/search%3Fq%3D%2522Has%252Bthe%252Bglobal%252Bcrypto%252Bmarket%252Bexperienced%252Ba%252Bsignificant%252Bdrop%252Bin%252Bmarket%252Bcap%252Bon%252Bthe%252Bdate%252Bspecified%252C%252Bcausing%252Bbitcoin%252Bto%252Bbriefly%252Bgo%252Bbelow%252B%252450%252C000%253F%2522%26num%3D3%26hl%3Den%26start%3D0&hl=en&q=EgTLXD6CGOfx7bUGIjDLNY-Tj-mBfOln2s6iUabvGH5uyxqkf2aQ8IyZzkWHQ3iLRf9sFB6ITnPaaDflli4yAXJaAUM\n"
     ]
    },
    {
     "name": "stderr",
     "output_type": "stream",
     "text": [
      "  1%|          | 4/688 [01:34<4:29:12, 23.61s/it]\n"
     ]
    },
    {
     "name": "stdout",
     "output_type": "stream",
     "text": [
      "CSV file exists. Size: 1130 bytes\n"
     ]
    },
    {
     "ename": "KeyboardInterrupt",
     "evalue": "",
     "output_type": "error",
     "traceback": [
      "\u001b[1;31m---------------------------------------------------------------------------\u001b[0m",
      "\u001b[1;31mKeyboardInterrupt\u001b[0m                         Traceback (most recent call last)",
      "Cell \u001b[1;32mIn[12], line 24\u001b[0m\n\u001b[0;32m     22\u001b[0m \u001b[38;5;28;01mfor\u001b[39;00m index, row \u001b[38;5;129;01min\u001b[39;00m tqdm(df\u001b[38;5;241m.\u001b[39miterrows(),total\u001b[38;5;241m=\u001b[39m \u001b[38;5;28mlen\u001b[39m(df)):\n\u001b[0;32m     23\u001b[0m     \u001b[38;5;28;01mtry\u001b[39;00m:\n\u001b[1;32m---> 24\u001b[0m         model_decision,scraped_content \u001b[38;5;241m=\u001b[39m \u001b[43mFactCC_Mistral\u001b[49m\u001b[43m(\u001b[49m\u001b[43mrow\u001b[49m\u001b[43m[\u001b[49m\u001b[38;5;124;43m'\u001b[39;49m\u001b[38;5;124;43mHeadline\u001b[39;49m\u001b[38;5;124;43m'\u001b[39;49m\u001b[43m]\u001b[49m\u001b[43m,\u001b[49m\u001b[43m \u001b[49m\u001b[43mrow\u001b[49m\u001b[43m[\u001b[49m\u001b[38;5;124;43m'\u001b[39;49m\u001b[38;5;124;43mQuestion_Mistral\u001b[39;49m\u001b[38;5;124;43m'\u001b[39;49m\u001b[43m]\u001b[49m\u001b[43m)\u001b[49m\n\u001b[0;32m     25\u001b[0m         \u001b[38;5;66;03m# Convert scraped content to a single line\u001b[39;00m\n\u001b[0;32m     26\u001b[0m         scraped_content_single_line \u001b[38;5;241m=\u001b[39m \u001b[38;5;124m'\u001b[39m\u001b[38;5;124m \u001b[39m\u001b[38;5;124m'\u001b[39m\u001b[38;5;241m.\u001b[39mjoin(scraped_content\u001b[38;5;241m.\u001b[39msplitlines())\u001b[38;5;241m.\u001b[39mstrip()\n",
      "Cell \u001b[1;32mIn[9], line 2\u001b[0m, in \u001b[0;36mFactCC_Mistral\u001b[1;34m(input_headline, Mistral_generated_question)\u001b[0m\n\u001b[0;32m      1\u001b[0m \u001b[38;5;28;01mdef\u001b[39;00m \u001b[38;5;21mFactCC_Mistral\u001b[39m(input_headline ,Mistral_generated_question):\n\u001b[1;32m----> 2\u001b[0m     quickSearchAnswer \u001b[38;5;241m=\u001b[39m \u001b[43mgoogle_search\u001b[49m\u001b[43m(\u001b[49m\u001b[43mMistral_generated_question\u001b[49m\u001b[43m)\u001b[49m\n\u001b[0;32m      4\u001b[0m     \u001b[38;5;66;03m#compare scraped info as source and headline as the claim\u001b[39;00m\n\u001b[0;32m      5\u001b[0m     ans \u001b[38;5;241m=\u001b[39m pipe([[[quickSearchAnswer,Mistral_generated_question]]], truncation\u001b[38;5;241m=\u001b[39m\u001b[38;5;28;01mTrue\u001b[39;00m, padding\u001b[38;5;241m=\u001b[39m\u001b[38;5;124m'\u001b[39m\u001b[38;5;124mmax_length\u001b[39m\u001b[38;5;124m'\u001b[39m)\n",
      "Cell \u001b[1;32mIn[8], line 26\u001b[0m, in \u001b[0;36mgoogle_search\u001b[1;34m(query)\u001b[0m\n\u001b[0;32m     23\u001b[0m     answer\u001b[38;5;241m=\u001b[39mquery\u001b[38;5;241m+\u001b[39m\u001b[38;5;124m'\u001b[39m\u001b[38;5;124m \u001b[39m\u001b[38;5;124m'\u001b[39m\u001b[38;5;241m+\u001b[39manswer\n\u001b[0;32m     25\u001b[0m \u001b[38;5;28;01melif\u001b[39;00m \u001b[38;5;129;01mnot\u001b[39;00m soup\u001b[38;5;241m.\u001b[39mselect_one(\u001b[38;5;124m'\u001b[39m\u001b[38;5;124m.DI6Ufb\u001b[39m\u001b[38;5;124m'\u001b[39m):\n\u001b[1;32m---> 26\u001b[0m     result\u001b[38;5;241m=\u001b[39m\u001b[43mpeople_also_ask\u001b[49m\u001b[43m(\u001b[49m\u001b[43msearch_url\u001b[49m\u001b[43m)\u001b[49m\n\u001b[0;32m     27\u001b[0m     \u001b[38;5;66;03m# print(\"Result of the Scraping\",result)\u001b[39;00m\n\u001b[0;32m     28\u001b[0m     \u001b[38;5;28;01mif\u001b[39;00m \u001b[38;5;28mlen\u001b[39m(result)\u001b[38;5;241m==\u001b[39m\u001b[38;5;241m2\u001b[39m:\n",
      "File \u001b[1;32mc:\\Users\\hetan\\Desktop\\NewsIntegrityAnlyzer\\artifacts\\scraping_selenium.py:21\u001b[0m, in \u001b[0;36mpeople_also_ask\u001b[1;34m(url)\u001b[0m\n\u001b[0;32m     19\u001b[0m cService \u001b[38;5;241m=\u001b[39m Service(executable_path\u001b[38;5;241m=\u001b[39m\u001b[38;5;124m'\u001b[39m\u001b[38;5;124m../chromedriver-win64/chromedriver.exe\u001b[39m\u001b[38;5;124m'\u001b[39m)\n\u001b[0;32m     20\u001b[0m driver \u001b[38;5;241m=\u001b[39m webdriver\u001b[38;5;241m.\u001b[39mChrome(service\u001b[38;5;241m=\u001b[39mcService,options\u001b[38;5;241m=\u001b[39mchrome_options)\n\u001b[1;32m---> 21\u001b[0m driver\u001b[38;5;241m.\u001b[39mget(url)\n\u001b[0;32m     22\u001b[0m \u001b[38;5;28;01mtry\u001b[39;00m:\n\u001b[0;32m     23\u001b[0m     wait \u001b[38;5;241m=\u001b[39m WebDriverWait(driver, \u001b[38;5;241m5\u001b[39m)\n",
      "File \u001b[1;32mc:\\Users\\hetan\\AppData\\Local\\Programs\\Python\\Python39\\lib\\site-packages\\selenium\\webdriver\\remote\\webdriver.py:357\u001b[0m, in \u001b[0;36mWebDriver.get\u001b[1;34m(self, url)\u001b[0m\n\u001b[0;32m    355\u001b[0m \u001b[38;5;28;01mdef\u001b[39;00m \u001b[38;5;21mget\u001b[39m(\u001b[38;5;28mself\u001b[39m, url: \u001b[38;5;28mstr\u001b[39m) \u001b[38;5;241m-\u001b[39m\u001b[38;5;241m>\u001b[39m \u001b[38;5;28;01mNone\u001b[39;00m:\n\u001b[0;32m    356\u001b[0m \u001b[38;5;250m    \u001b[39m\u001b[38;5;124;03m\"\"\"Loads a web page in the current browser session.\"\"\"\u001b[39;00m\n\u001b[1;32m--> 357\u001b[0m     \u001b[38;5;28;43mself\u001b[39;49m\u001b[38;5;241;43m.\u001b[39;49m\u001b[43mexecute\u001b[49m\u001b[43m(\u001b[49m\u001b[43mCommand\u001b[49m\u001b[38;5;241;43m.\u001b[39;49m\u001b[43mGET\u001b[49m\u001b[43m,\u001b[49m\u001b[43m \u001b[49m\u001b[43m{\u001b[49m\u001b[38;5;124;43m\"\u001b[39;49m\u001b[38;5;124;43murl\u001b[39;49m\u001b[38;5;124;43m\"\u001b[39;49m\u001b[43m:\u001b[49m\u001b[43m \u001b[49m\u001b[43murl\u001b[49m\u001b[43m}\u001b[49m\u001b[43m)\u001b[49m\n",
      "File \u001b[1;32mc:\\Users\\hetan\\AppData\\Local\\Programs\\Python\\Python39\\lib\\site-packages\\selenium\\webdriver\\remote\\webdriver.py:346\u001b[0m, in \u001b[0;36mWebDriver.execute\u001b[1;34m(self, driver_command, params)\u001b[0m\n\u001b[0;32m    343\u001b[0m     \u001b[38;5;28;01melif\u001b[39;00m \u001b[38;5;124m\"\u001b[39m\u001b[38;5;124msessionId\u001b[39m\u001b[38;5;124m\"\u001b[39m \u001b[38;5;129;01mnot\u001b[39;00m \u001b[38;5;129;01min\u001b[39;00m params:\n\u001b[0;32m    344\u001b[0m         params[\u001b[38;5;124m\"\u001b[39m\u001b[38;5;124msessionId\u001b[39m\u001b[38;5;124m\"\u001b[39m] \u001b[38;5;241m=\u001b[39m \u001b[38;5;28mself\u001b[39m\u001b[38;5;241m.\u001b[39msession_id\n\u001b[1;32m--> 346\u001b[0m response \u001b[38;5;241m=\u001b[39m \u001b[38;5;28;43mself\u001b[39;49m\u001b[38;5;241;43m.\u001b[39;49m\u001b[43mcommand_executor\u001b[49m\u001b[38;5;241;43m.\u001b[39;49m\u001b[43mexecute\u001b[49m\u001b[43m(\u001b[49m\u001b[43mdriver_command\u001b[49m\u001b[43m,\u001b[49m\u001b[43m \u001b[49m\u001b[43mparams\u001b[49m\u001b[43m)\u001b[49m\n\u001b[0;32m    347\u001b[0m \u001b[38;5;28;01mif\u001b[39;00m response:\n\u001b[0;32m    348\u001b[0m     \u001b[38;5;28mself\u001b[39m\u001b[38;5;241m.\u001b[39merror_handler\u001b[38;5;241m.\u001b[39mcheck_response(response)\n",
      "File \u001b[1;32mc:\\Users\\hetan\\AppData\\Local\\Programs\\Python\\Python39\\lib\\site-packages\\selenium\\webdriver\\remote\\remote_connection.py:300\u001b[0m, in \u001b[0;36mRemoteConnection.execute\u001b[1;34m(self, command, params)\u001b[0m\n\u001b[0;32m    298\u001b[0m data \u001b[38;5;241m=\u001b[39m utils\u001b[38;5;241m.\u001b[39mdump_json(params)\n\u001b[0;32m    299\u001b[0m url \u001b[38;5;241m=\u001b[39m \u001b[38;5;124mf\u001b[39m\u001b[38;5;124m\"\u001b[39m\u001b[38;5;132;01m{\u001b[39;00m\u001b[38;5;28mself\u001b[39m\u001b[38;5;241m.\u001b[39m_url\u001b[38;5;132;01m}\u001b[39;00m\u001b[38;5;132;01m{\u001b[39;00mpath\u001b[38;5;132;01m}\u001b[39;00m\u001b[38;5;124m\"\u001b[39m\n\u001b[1;32m--> 300\u001b[0m \u001b[38;5;28;01mreturn\u001b[39;00m \u001b[38;5;28;43mself\u001b[39;49m\u001b[38;5;241;43m.\u001b[39;49m\u001b[43m_request\u001b[49m\u001b[43m(\u001b[49m\u001b[43mcommand_info\u001b[49m\u001b[43m[\u001b[49m\u001b[38;5;241;43m0\u001b[39;49m\u001b[43m]\u001b[49m\u001b[43m,\u001b[49m\u001b[43m \u001b[49m\u001b[43murl\u001b[49m\u001b[43m,\u001b[49m\u001b[43m \u001b[49m\u001b[43mbody\u001b[49m\u001b[38;5;241;43m=\u001b[39;49m\u001b[43mdata\u001b[49m\u001b[43m)\u001b[49m\n",
      "File \u001b[1;32mc:\\Users\\hetan\\AppData\\Local\\Programs\\Python\\Python39\\lib\\site-packages\\selenium\\webdriver\\remote\\remote_connection.py:321\u001b[0m, in \u001b[0;36mRemoteConnection._request\u001b[1;34m(self, method, url, body)\u001b[0m\n\u001b[0;32m    318\u001b[0m     body \u001b[38;5;241m=\u001b[39m \u001b[38;5;28;01mNone\u001b[39;00m\n\u001b[0;32m    320\u001b[0m \u001b[38;5;28;01mif\u001b[39;00m \u001b[38;5;28mself\u001b[39m\u001b[38;5;241m.\u001b[39mkeep_alive:\n\u001b[1;32m--> 321\u001b[0m     response \u001b[38;5;241m=\u001b[39m \u001b[38;5;28;43mself\u001b[39;49m\u001b[38;5;241;43m.\u001b[39;49m\u001b[43m_conn\u001b[49m\u001b[38;5;241;43m.\u001b[39;49m\u001b[43mrequest\u001b[49m\u001b[43m(\u001b[49m\u001b[43mmethod\u001b[49m\u001b[43m,\u001b[49m\u001b[43m \u001b[49m\u001b[43murl\u001b[49m\u001b[43m,\u001b[49m\u001b[43m \u001b[49m\u001b[43mbody\u001b[49m\u001b[38;5;241;43m=\u001b[39;49m\u001b[43mbody\u001b[49m\u001b[43m,\u001b[49m\u001b[43m \u001b[49m\u001b[43mheaders\u001b[49m\u001b[38;5;241;43m=\u001b[39;49m\u001b[43mheaders\u001b[49m\u001b[43m)\u001b[49m\n\u001b[0;32m    322\u001b[0m     statuscode \u001b[38;5;241m=\u001b[39m response\u001b[38;5;241m.\u001b[39mstatus\n\u001b[0;32m    323\u001b[0m \u001b[38;5;28;01melse\u001b[39;00m:\n",
      "File \u001b[1;32mc:\\Users\\hetan\\AppData\\Local\\Programs\\Python\\Python39\\lib\\site-packages\\urllib3\\_request_methods.py:144\u001b[0m, in \u001b[0;36mRequestMethods.request\u001b[1;34m(self, method, url, body, fields, headers, json, **urlopen_kw)\u001b[0m\n\u001b[0;32m    136\u001b[0m     \u001b[38;5;28;01mreturn\u001b[39;00m \u001b[38;5;28mself\u001b[39m\u001b[38;5;241m.\u001b[39mrequest_encode_url(\n\u001b[0;32m    137\u001b[0m         method,\n\u001b[0;32m    138\u001b[0m         url,\n\u001b[1;32m   (...)\u001b[0m\n\u001b[0;32m    141\u001b[0m         \u001b[38;5;241m*\u001b[39m\u001b[38;5;241m*\u001b[39murlopen_kw,\n\u001b[0;32m    142\u001b[0m     )\n\u001b[0;32m    143\u001b[0m \u001b[38;5;28;01melse\u001b[39;00m:\n\u001b[1;32m--> 144\u001b[0m     \u001b[38;5;28;01mreturn\u001b[39;00m \u001b[38;5;28mself\u001b[39m\u001b[38;5;241m.\u001b[39mrequest_encode_body(\n\u001b[0;32m    145\u001b[0m         method, url, fields\u001b[38;5;241m=\u001b[39mfields, headers\u001b[38;5;241m=\u001b[39mheaders, \u001b[38;5;241m*\u001b[39m\u001b[38;5;241m*\u001b[39murlopen_kw\n\u001b[0;32m    146\u001b[0m     )\n",
      "File \u001b[1;32mc:\\Users\\hetan\\AppData\\Local\\Programs\\Python\\Python39\\lib\\site-packages\\urllib3\\_request_methods.py:279\u001b[0m, in \u001b[0;36mRequestMethods.request_encode_body\u001b[1;34m(self, method, url, fields, headers, encode_multipart, multipart_boundary, **urlopen_kw)\u001b[0m\n\u001b[0;32m    275\u001b[0m     extra_kw[\u001b[38;5;124m\"\u001b[39m\u001b[38;5;124mheaders\u001b[39m\u001b[38;5;124m\"\u001b[39m]\u001b[38;5;241m.\u001b[39msetdefault(\u001b[38;5;124m\"\u001b[39m\u001b[38;5;124mContent-Type\u001b[39m\u001b[38;5;124m\"\u001b[39m, content_type)\n\u001b[0;32m    277\u001b[0m extra_kw\u001b[38;5;241m.\u001b[39mupdate(urlopen_kw)\n\u001b[1;32m--> 279\u001b[0m \u001b[38;5;28;01mreturn\u001b[39;00m \u001b[38;5;28mself\u001b[39m\u001b[38;5;241m.\u001b[39murlopen(method, url, \u001b[38;5;241m*\u001b[39m\u001b[38;5;241m*\u001b[39mextra_kw)\n",
      "File \u001b[1;32mc:\\Users\\hetan\\AppData\\Local\\Programs\\Python\\Python39\\lib\\site-packages\\urllib3\\poolmanager.py:444\u001b[0m, in \u001b[0;36mPoolManager.urlopen\u001b[1;34m(self, method, url, redirect, **kw)\u001b[0m\n\u001b[0;32m    442\u001b[0m     response \u001b[38;5;241m=\u001b[39m conn\u001b[38;5;241m.\u001b[39murlopen(method, url, \u001b[38;5;241m*\u001b[39m\u001b[38;5;241m*\u001b[39mkw)\n\u001b[0;32m    443\u001b[0m \u001b[38;5;28;01melse\u001b[39;00m:\n\u001b[1;32m--> 444\u001b[0m     response \u001b[38;5;241m=\u001b[39m conn\u001b[38;5;241m.\u001b[39murlopen(method, u\u001b[38;5;241m.\u001b[39mrequest_uri, \u001b[38;5;241m*\u001b[39m\u001b[38;5;241m*\u001b[39mkw)\n\u001b[0;32m    446\u001b[0m redirect_location \u001b[38;5;241m=\u001b[39m redirect \u001b[38;5;129;01mand\u001b[39;00m response\u001b[38;5;241m.\u001b[39mget_redirect_location()\n\u001b[0;32m    447\u001b[0m \u001b[38;5;28;01mif\u001b[39;00m \u001b[38;5;129;01mnot\u001b[39;00m redirect_location:\n",
      "File \u001b[1;32mc:\\Users\\hetan\\AppData\\Local\\Programs\\Python\\Python39\\lib\\site-packages\\urllib3\\connectionpool.py:793\u001b[0m, in \u001b[0;36mHTTPConnectionPool.urlopen\u001b[1;34m(self, method, url, body, headers, retries, redirect, assert_same_host, timeout, pool_timeout, release_conn, chunked, body_pos, preload_content, decode_content, **response_kw)\u001b[0m\n\u001b[0;32m    790\u001b[0m response_conn \u001b[38;5;241m=\u001b[39m conn \u001b[38;5;28;01mif\u001b[39;00m \u001b[38;5;129;01mnot\u001b[39;00m release_conn \u001b[38;5;28;01melse\u001b[39;00m \u001b[38;5;28;01mNone\u001b[39;00m\n\u001b[0;32m    792\u001b[0m \u001b[38;5;66;03m# Make the request on the HTTPConnection object\u001b[39;00m\n\u001b[1;32m--> 793\u001b[0m response \u001b[38;5;241m=\u001b[39m \u001b[38;5;28mself\u001b[39m\u001b[38;5;241m.\u001b[39m_make_request(\n\u001b[0;32m    794\u001b[0m     conn,\n\u001b[0;32m    795\u001b[0m     method,\n\u001b[0;32m    796\u001b[0m     url,\n\u001b[0;32m    797\u001b[0m     timeout\u001b[38;5;241m=\u001b[39mtimeout_obj,\n\u001b[0;32m    798\u001b[0m     body\u001b[38;5;241m=\u001b[39mbody,\n\u001b[0;32m    799\u001b[0m     headers\u001b[38;5;241m=\u001b[39mheaders,\n\u001b[0;32m    800\u001b[0m     chunked\u001b[38;5;241m=\u001b[39mchunked,\n\u001b[0;32m    801\u001b[0m     retries\u001b[38;5;241m=\u001b[39mretries,\n\u001b[0;32m    802\u001b[0m     response_conn\u001b[38;5;241m=\u001b[39mresponse_conn,\n\u001b[0;32m    803\u001b[0m     preload_content\u001b[38;5;241m=\u001b[39mpreload_content,\n\u001b[0;32m    804\u001b[0m     decode_content\u001b[38;5;241m=\u001b[39mdecode_content,\n\u001b[0;32m    805\u001b[0m     \u001b[38;5;241m*\u001b[39m\u001b[38;5;241m*\u001b[39mresponse_kw,\n\u001b[0;32m    806\u001b[0m )\n\u001b[0;32m    808\u001b[0m \u001b[38;5;66;03m# Everything went great!\u001b[39;00m\n\u001b[0;32m    809\u001b[0m clean_exit \u001b[38;5;241m=\u001b[39m \u001b[38;5;28;01mTrue\u001b[39;00m\n",
      "File \u001b[1;32mc:\\Users\\hetan\\AppData\\Local\\Programs\\Python\\Python39\\lib\\site-packages\\urllib3\\connectionpool.py:537\u001b[0m, in \u001b[0;36mHTTPConnectionPool._make_request\u001b[1;34m(self, conn, method, url, body, headers, retries, timeout, chunked, response_conn, preload_content, decode_content, enforce_content_length)\u001b[0m\n\u001b[0;32m    535\u001b[0m \u001b[38;5;66;03m# Receive the response from the server\u001b[39;00m\n\u001b[0;32m    536\u001b[0m \u001b[38;5;28;01mtry\u001b[39;00m:\n\u001b[1;32m--> 537\u001b[0m     response \u001b[38;5;241m=\u001b[39m \u001b[43mconn\u001b[49m\u001b[38;5;241;43m.\u001b[39;49m\u001b[43mgetresponse\u001b[49m\u001b[43m(\u001b[49m\u001b[43m)\u001b[49m\n\u001b[0;32m    538\u001b[0m \u001b[38;5;28;01mexcept\u001b[39;00m (BaseSSLError, \u001b[38;5;167;01mOSError\u001b[39;00m) \u001b[38;5;28;01mas\u001b[39;00m e:\n\u001b[0;32m    539\u001b[0m     \u001b[38;5;28mself\u001b[39m\u001b[38;5;241m.\u001b[39m_raise_timeout(err\u001b[38;5;241m=\u001b[39me, url\u001b[38;5;241m=\u001b[39murl, timeout_value\u001b[38;5;241m=\u001b[39mread_timeout)\n",
      "File \u001b[1;32mc:\\Users\\hetan\\AppData\\Local\\Programs\\Python\\Python39\\lib\\site-packages\\urllib3\\connection.py:466\u001b[0m, in \u001b[0;36mHTTPConnection.getresponse\u001b[1;34m(self)\u001b[0m\n\u001b[0;32m    463\u001b[0m \u001b[38;5;28;01mfrom\u001b[39;00m \u001b[38;5;21;01m.\u001b[39;00m\u001b[38;5;21;01mresponse\u001b[39;00m \u001b[38;5;28;01mimport\u001b[39;00m HTTPResponse\n\u001b[0;32m    465\u001b[0m \u001b[38;5;66;03m# Get the response from http.client.HTTPConnection\u001b[39;00m\n\u001b[1;32m--> 466\u001b[0m httplib_response \u001b[38;5;241m=\u001b[39m \u001b[38;5;28;43msuper\u001b[39;49m\u001b[43m(\u001b[49m\u001b[43m)\u001b[49m\u001b[38;5;241;43m.\u001b[39;49m\u001b[43mgetresponse\u001b[49m\u001b[43m(\u001b[49m\u001b[43m)\u001b[49m\n\u001b[0;32m    468\u001b[0m \u001b[38;5;28;01mtry\u001b[39;00m:\n\u001b[0;32m    469\u001b[0m     assert_header_parsing(httplib_response\u001b[38;5;241m.\u001b[39mmsg)\n",
      "File \u001b[1;32mc:\\Users\\hetan\\AppData\\Local\\Programs\\Python\\Python39\\lib\\http\\client.py:1377\u001b[0m, in \u001b[0;36mHTTPConnection.getresponse\u001b[1;34m(self)\u001b[0m\n\u001b[0;32m   1375\u001b[0m \u001b[38;5;28;01mtry\u001b[39;00m:\n\u001b[0;32m   1376\u001b[0m     \u001b[38;5;28;01mtry\u001b[39;00m:\n\u001b[1;32m-> 1377\u001b[0m         \u001b[43mresponse\u001b[49m\u001b[38;5;241;43m.\u001b[39;49m\u001b[43mbegin\u001b[49m\u001b[43m(\u001b[49m\u001b[43m)\u001b[49m\n\u001b[0;32m   1378\u001b[0m     \u001b[38;5;28;01mexcept\u001b[39;00m \u001b[38;5;167;01mConnectionError\u001b[39;00m:\n\u001b[0;32m   1379\u001b[0m         \u001b[38;5;28mself\u001b[39m\u001b[38;5;241m.\u001b[39mclose()\n",
      "File \u001b[1;32mc:\\Users\\hetan\\AppData\\Local\\Programs\\Python\\Python39\\lib\\http\\client.py:320\u001b[0m, in \u001b[0;36mHTTPResponse.begin\u001b[1;34m(self)\u001b[0m\n\u001b[0;32m    318\u001b[0m \u001b[38;5;66;03m# read until we get a non-100 response\u001b[39;00m\n\u001b[0;32m    319\u001b[0m \u001b[38;5;28;01mwhile\u001b[39;00m \u001b[38;5;28;01mTrue\u001b[39;00m:\n\u001b[1;32m--> 320\u001b[0m     version, status, reason \u001b[38;5;241m=\u001b[39m \u001b[38;5;28;43mself\u001b[39;49m\u001b[38;5;241;43m.\u001b[39;49m\u001b[43m_read_status\u001b[49m\u001b[43m(\u001b[49m\u001b[43m)\u001b[49m\n\u001b[0;32m    321\u001b[0m     \u001b[38;5;28;01mif\u001b[39;00m status \u001b[38;5;241m!=\u001b[39m CONTINUE:\n\u001b[0;32m    322\u001b[0m         \u001b[38;5;28;01mbreak\u001b[39;00m\n",
      "File \u001b[1;32mc:\\Users\\hetan\\AppData\\Local\\Programs\\Python\\Python39\\lib\\http\\client.py:281\u001b[0m, in \u001b[0;36mHTTPResponse._read_status\u001b[1;34m(self)\u001b[0m\n\u001b[0;32m    280\u001b[0m \u001b[38;5;28;01mdef\u001b[39;00m \u001b[38;5;21m_read_status\u001b[39m(\u001b[38;5;28mself\u001b[39m):\n\u001b[1;32m--> 281\u001b[0m     line \u001b[38;5;241m=\u001b[39m \u001b[38;5;28mstr\u001b[39m(\u001b[38;5;28;43mself\u001b[39;49m\u001b[38;5;241;43m.\u001b[39;49m\u001b[43mfp\u001b[49m\u001b[38;5;241;43m.\u001b[39;49m\u001b[43mreadline\u001b[49m\u001b[43m(\u001b[49m\u001b[43m_MAXLINE\u001b[49m\u001b[43m \u001b[49m\u001b[38;5;241;43m+\u001b[39;49m\u001b[43m \u001b[49m\u001b[38;5;241;43m1\u001b[39;49m\u001b[43m)\u001b[49m, \u001b[38;5;124m\"\u001b[39m\u001b[38;5;124miso-8859-1\u001b[39m\u001b[38;5;124m\"\u001b[39m)\n\u001b[0;32m    282\u001b[0m     \u001b[38;5;28;01mif\u001b[39;00m \u001b[38;5;28mlen\u001b[39m(line) \u001b[38;5;241m>\u001b[39m _MAXLINE:\n\u001b[0;32m    283\u001b[0m         \u001b[38;5;28;01mraise\u001b[39;00m LineTooLong(\u001b[38;5;124m\"\u001b[39m\u001b[38;5;124mstatus line\u001b[39m\u001b[38;5;124m\"\u001b[39m)\n",
      "File \u001b[1;32mc:\\Users\\hetan\\AppData\\Local\\Programs\\Python\\Python39\\lib\\socket.py:704\u001b[0m, in \u001b[0;36mSocketIO.readinto\u001b[1;34m(self, b)\u001b[0m\n\u001b[0;32m    702\u001b[0m \u001b[38;5;28;01mwhile\u001b[39;00m \u001b[38;5;28;01mTrue\u001b[39;00m:\n\u001b[0;32m    703\u001b[0m     \u001b[38;5;28;01mtry\u001b[39;00m:\n\u001b[1;32m--> 704\u001b[0m         \u001b[38;5;28;01mreturn\u001b[39;00m \u001b[38;5;28;43mself\u001b[39;49m\u001b[38;5;241;43m.\u001b[39;49m\u001b[43m_sock\u001b[49m\u001b[38;5;241;43m.\u001b[39;49m\u001b[43mrecv_into\u001b[49m\u001b[43m(\u001b[49m\u001b[43mb\u001b[49m\u001b[43m)\u001b[49m\n\u001b[0;32m    705\u001b[0m     \u001b[38;5;28;01mexcept\u001b[39;00m timeout:\n\u001b[0;32m    706\u001b[0m         \u001b[38;5;28mself\u001b[39m\u001b[38;5;241m.\u001b[39m_timeout_occurred \u001b[38;5;241m=\u001b[39m \u001b[38;5;28;01mTrue\u001b[39;00m\n",
      "\u001b[1;31mKeyboardInterrupt\u001b[0m: "
     ]
    }
   ],
   "source": [
    "import csv\n",
    "import os\n",
    "from tqdm import tqdm\n",
    "predictions = []\n",
    "actuals = []\n",
    "results = []\n",
    "batch_size = 2\n",
    "csv_filename = 'Pipeline_LLM(Mistral).csv'\n",
    "processed_headlines = set()\n",
    "\n",
    "# Check if CSV file already exists and load processed headlines\n",
    "if os.path.exists(csv_filename):\n",
    "    with open(csv_filename, 'r', newline='', encoding='utf-8') as csvfile:\n",
    "        csvreader = csv.reader(csvfile, delimiter='|')\n",
    "        next(csvreader)  # Skip header\n",
    "        for row in csvreader:\n",
    "            if len(row) < 2:  # Skip rows that may not have all columns\n",
    "                continue\n",
    "            headline = row[1]\n",
    "            processed_headlines.add(headline)\n",
    "\n",
    "\n",
    "try:\n",
    "    # Open the CSV file for writing with '|' as the delimiter\n",
    "    with open(csv_filename, 'a', newline='', encoding='utf-8') as csvfile:\n",
    "        csvwriter = csv.writer(csvfile, delimiter='|')\n",
    "        if not processed_headlines:\n",
    "            csvwriter.writerow(['Index', 'Headline','Scraped_Content','Question_Mistral', 'Model Decision', 'Actual Decision'])\n",
    "        \n",
    "        # Iterate over each row in the dataframe\n",
    "        for index, row in tqdm(df.iterrows(),total= len(df)):\n",
    "            try:\n",
    "                headline = row['Headline']\n",
    "                if headline in processed_headlines:\n",
    "                    print(f\"Skipping already processed headline: {headline}\")\n",
    "                    continue\n",
    "                model_decision,scraped_content = FactCC_Mistral(row['Headline'], row['Question_Mistral'])\n",
    "                # Convert scraped content to a single line\n",
    "                scraped_content_single_line = ' '.join(scraped_content.splitlines()).strip().replace('|', ' ')\n",
    "                actual_decision = row['Label']\n",
    "                predictions.append(model_decision)\n",
    "                actuals.append(actual_decision)\n",
    "                \n",
    "                # Write the results to the CSV file\n",
    "                results.append([index, row['Headline'], scraped_content_single_line, row['Question_Mistral'],model_decision, actual_decision])\n",
    "                \n",
    "                # print(f\"Index: {index}, Model Decision: {model_decision}, Actual Decision: {actual_decision}\")\n",
    "                # print(f\"------------------------------------------------------------------------------------\")\n",
    "                time.sleep(5) \n",
    "                if len(results) % batch_size == 0:\n",
    "                        csvwriter.writerows(results)\n",
    "                        csvfile.flush()\n",
    "                        os.fsync(csvfile.fileno())\n",
    "                        results = [] # Delay to prevent rate limiting\n",
    "            except Exception as e:\n",
    "                print(f\"Error processing row {index}: {str(e)}\")\n",
    "                continue\n",
    "\n",
    "        # Write any remaining results\n",
    "        if results:\n",
    "            csvwriter.writerows(results)\n",
    "            csvfile.flush()\n",
    "            os.fsync(csvfile.fileno())\n",
    "\n",
    "    # Calculate the metrics\n",
    "    accuracy = accuracy_score(actuals, predictions)\n",
    "    precision = precision_score(actuals, predictions, pos_label=True)\n",
    "    recall = recall_score(actuals, predictions, pos_label=True)\n",
    "    f1 = f1_score(actuals, predictions, pos_label=True)\n",
    "\n",
    "    # Append the metrics to the CSV file\n",
    "    with open(csv_filename, 'a', newline='', encoding='utf-8') as csvfile:\n",
    "        csvwriter = csv.writer(csvfile, delimiter='|')\n",
    "        csvwriter.writerow([])  # Add an empty row for separation\n",
    "        csvwriter.writerow(['Metric', 'Value'])\n",
    "        csvwriter.writerow(['Accuracy', accuracy])\n",
    "        csvwriter.writerow(['Precision', precision])\n",
    "        csvwriter.writerow(['Recall', recall])\n",
    "        csvwriter.writerow(['F1 Score', f1])\n",
    "\n",
    "    print(f'Results written to {csv_filename}')\n",
    "    print(f'Final file size: {os.path.getsize(csv_filename)} bytes')\n",
    "    print(f'Accuracy: {accuracy}')\n",
    "    print(f'Precision: {precision}')\n",
    "    print(f'Recall: {recall}')\n",
    "    print(f'F1 Score: {f1}')\n",
    "\n",
    "except Exception as e:\n",
    "    print(f\"An error occurred: {str(e)}\")\n",
    "\n",
    "finally:\n",
    "    if os.path.exists(csv_filename):\n",
    "        print(f\"CSV file exists. Size: {os.path.getsize(csv_filename)} bytes\")\n",
    "    else:\n",
    "        print(\"CSV file does not exist.\")"
   ]
  },
  {
   "cell_type": "code",
   "execution_count": null,
   "metadata": {},
   "outputs": [],
   "source": []
  }
 ],
 "metadata": {
  "kernelspec": {
   "display_name": "Python 3",
   "language": "python",
   "name": "python3"
  },
  "language_info": {
   "codemirror_mode": {
    "name": "ipython",
    "version": 3
   },
   "file_extension": ".py",
   "mimetype": "text/x-python",
   "name": "python",
   "nbconvert_exporter": "python",
   "pygments_lexer": "ipython3",
   "version": "3.9.12"
  }
 },
 "nbformat": 4,
 "nbformat_minor": 2
}
