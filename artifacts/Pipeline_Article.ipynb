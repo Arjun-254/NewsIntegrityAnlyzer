{
 "cells": [
  {
   "cell_type": "markdown",
   "metadata": {},
   "source": [
    "### Data Loading and Label Mapping"
   ]
  },
  {
   "cell_type": "code",
   "execution_count": 1,
   "metadata": {},
   "outputs": [
    {
     "name": "stderr",
     "output_type": "stream",
     "text": [
      "/opt/homebrew/lib/python3.11/site-packages/tqdm/auto.py:21: TqdmWarning: IProgress not found. Please update jupyter and ipywidgets. See https://ipywidgets.readthedocs.io/en/stable/user_install.html\n",
      "  from .autonotebook import tqdm as notebook_tqdm\n"
     ]
    }
   ],
   "source": [
    "#IMPORTS\n",
    "import numpy as np\n",
    "import pandas as pd\n",
    "import matplotlib.pyplot as plt\n",
    "from transformers import AutoTokenizer, AutoModelForSequenceClassification,pipeline\n",
    "from googlesearch import search\n",
    "from bs4 import BeautifulSoup\n",
    "import requests\n",
    "from sklearn.metrics import accuracy_score, precision_score, recall_score, f1_score\n"
   ]
  },
  {
   "cell_type": "code",
   "execution_count": null,
   "metadata": {},
   "outputs": [],
   "source": [
    "df = pd.read_csv('Final_Testing_Dataset.csv')\n",
    "df"
   ]
  },
  {
   "cell_type": "code",
   "execution_count": 152,
   "metadata": {},
   "outputs": [
    {
     "data": {
      "text/plain": [
       "label\n",
       "true     3171\n",
       "false    3164\n",
       "Name: count, dtype: int64"
      ]
     },
     "execution_count": 152,
     "metadata": {},
     "output_type": "execute_result"
    }
   ],
   "source": [
    "df['Label'].value_counts()"
   ]
  },
  {
   "cell_type": "code",
   "execution_count": 153,
   "metadata": {},
   "outputs": [
    {
     "data": {
      "text/plain": [
       "<Axes: ylabel='label'>"
      ]
     },
     "execution_count": 153,
     "metadata": {},
     "output_type": "execute_result"
    },
    {
     "data": {
      "image/png": "[encoded data removed]",
      "text/plain": [
       "<Figure size 640x480 with 1 Axes>"
      ]
     },
     "metadata": {},
     "output_type": "display_data"
    }
   ],
   "source": [
    "df['Label'].value_counts().plot(kind='barh')"
   ]
  },
  {
   "cell_type": "markdown",
   "metadata": {},
   "source": [
    "### Articles Pipeline"
   ]
  },
  {
   "cell_type": "code",
   "execution_count": 154,
   "metadata": {},
   "outputs": [],
   "source": [
    "def get_top_links(query, num_links=1):\n",
    "    linksgot = []\n",
    "    try:\n",
    "        # Perform Google search and get the top links\n",
    "        search_results = search(query, num_results=num_links)\n",
    "\n",
    "        # Print the top links\n",
    "        for i, link in enumerate(search_results, start=1):\n",
    "            linksgot.append(link)\n",
    "    except Exception as e:\n",
    "        print(f\"An error occurred: {e}\")\n",
    "    return linksgot\n",
    "\n",
    "\n",
    "def get_title_and_content(search_query_results):\n",
    "    article_titles = []\n",
    "    article_content = []\n",
    "    if search_query_results:\n",
    "        for results in search_query_results:\n",
    "            try:\n",
    "                # Send a request to the URL and get the HTML content\n",
    "                response = requests.get(results)\n",
    "                soup = BeautifulSoup(response.content, 'lxml')\n",
    "\n",
    "                currentp = \"\"\n",
    "                # Scrape <p> tags\n",
    "                p_tags = soup.find_all('p')\n",
    "                for p in p_tags:\n",
    "                    currentp += p.text\n",
    "                article_content.append(currentp)\n",
    "\n",
    "                currenth1 = \"\"\n",
    "                # Scrape <h1> tags\n",
    "                h1_tags = soup.find_all('h1')\n",
    "                for h1 in h1_tags:\n",
    "                    currenth1 += h1.text\n",
    "\n",
    "                article_titles.append(currenth1)\n",
    "\n",
    "            except Exception as e:\n",
    "                print(f\"An error occurred: {e}\")\n",
    "    return article_titles, article_content\n",
    "\n",
    "\n",
    "# Get the titles and contents\n",
    "def make_data(search_query_results):\n",
    "    titles, contents = get_title_and_content(\n",
    "        get_top_links(search_query_results))\n",
    "\n",
    "    # Create a pandas DataFrame\n",
    "    data = {'Title': titles, 'Content': contents}\n",
    "    df = pd.DataFrame(data)\n",
    "    return df"
   ]
  },
  {
   "cell_type": "code",
   "execution_count": 155,
   "metadata": {},
   "outputs": [],
   "source": [
    "#To scrape headlines for the FactCC endpoint\n",
    "def dataframegen(text_input):\n",
    "    scraped_df = make_data(text_input)\n",
    "    scraped_df.dropna(inplace=True)\n",
    "    return scraped_df"
   ]
  },
  {
   "cell_type": "code",
   "execution_count": 156,
   "metadata": {},
   "outputs": [],
   "source": [
    "#Load FactCC Model pipeline\n",
    "pipe = pipeline(model=\"manueldeprada/FactCC\", task=\"text-classification\", max_length=512)"
   ]
  },
  {
   "cell_type": "code",
   "execution_count": 157,
   "metadata": {},
   "outputs": [],
   "source": [
    "def factCC(input_headline : str):\n",
    "    scraped_df =  dataframegen(input_headline)\n",
    "\n",
    "    # Convert the 'Content' column to strings\n",
    "    scraped_df['Content'] = scraped_df['Content'].astype(str)\n",
    "\n",
    "    # Sort the DataFrame based on the length of the strings in the 'Content' column\n",
    "    scraped_df = scraped_df.sort_values(by='Content', key=lambda x: x.str.len(), ascending=False)\n",
    "\n",
    "    print(f\"Title: {scraped_df['Content'][0][:100]}\")\n",
    "\n",
    "    if len(scraped_df) == 0 or not scraped_df['Content'][0] or '403 Forbidden' in scraped_df['Content'][0] or '403 Forbidden' in scraped_df['Title'][0] :\n",
    "        #Could not retrieve articles related to headline, Could possibly be a false claim OR Scraper got blocked/forbidden\n",
    "        return False\n",
    "\n",
    "    scraped_content = (\n",
    "    f\"{scraped_df['Title'][0]} \\n{scraped_df['Content'][0]}\")\n",
    "    \n",
    "    # Perform text classification [source,claim]\n",
    "    ans = pipe([[[scraped_content,input_headline]]], truncation=True, padding='max_length')\n",
    "\n",
    "    if ans[0]['label'] == 'CORRECT':\n",
    "        return True\n",
    "    else:\n",
    "        return False"
   ]
  },
  {
   "cell_type": "code",
   "execution_count": 158,
   "metadata": {},
   "outputs": [
    {
     "name": "stdout",
     "output_type": "stream",
     "text": [
      "Title: \n",
      "false false\n",
      "Correct Decision\n"
     ]
    }
   ],
   "source": [
    "model_decision = factCC(df['Headline'][0])\n",
    "actual_decision = df['Label'][0]\n",
    "print(model_decision,actual_decision)\n",
    "if model_decision == actual_decision:\n",
    "    print('Correct Decision')\n",
    "else:\n",
    "    print('Incorrect Decision')"
   ]
  },
  {
   "cell_type": "code",
   "execution_count": 159,
   "metadata": {},
   "outputs": [],
   "source": [
    "df = df[:10] #For testing"
   ]
  },
  {
   "cell_type": "code",
   "execution_count": 160,
   "metadata": {},
   "outputs": [
    {
     "data": {
      "text/html": [
       "<div>\n",
       "<style scoped>\n",
       "    .dataframe tbody tr th:only-of-type {\n",
       "        vertical-align: middle;\n",
       "    }\n",
       "\n",
       "    .dataframe tbody tr th {\n",
       "        vertical-align: top;\n",
       "    }\n",
       "\n",
       "    .dataframe thead th {\n",
       "        text-align: right;\n",
       "    }\n",
       "</style>\n",
       "<table border=\"1\" class=\"dataframe\">\n",
       "  <thead>\n",
       "    <tr style=\"text-align: right;\">\n",
       "      <th></th>\n",
       "      <th>id</th>\n",
       "      <th>title</th>\n",
       "      <th>text</th>\n",
       "      <th>label</th>\n",
       "    </tr>\n",
       "  </thead>\n",
       "  <tbody>\n",
       "    <tr>\n",
       "      <th>6325</th>\n",
       "      <td>8411</td>\n",
       "      <td>Will the Media Reset After the Election or Are...</td>\n",
       "      <td>Written by Peter Van Buren   venerable New Yor...</td>\n",
       "      <td>false</td>\n",
       "    </tr>\n",
       "    <tr>\n",
       "      <th>6326</th>\n",
       "      <td>6143</td>\n",
       "      <td>DOJ COMPLAINT: Comey Under Fire Over Partisan ...</td>\n",
       "      <td>DOJ COMPLAINT: Comey Under Fire Over Partisan ...</td>\n",
       "      <td>false</td>\n",
       "    </tr>\n",
       "    <tr>\n",
       "      <th>6327</th>\n",
       "      <td>3262</td>\n",
       "      <td>GOP Senator David Perdue Jokes About Praying f...</td>\n",
       "      <td>The freshman senator from Georgia quoted scrip...</td>\n",
       "      <td>true</td>\n",
       "    </tr>\n",
       "    <tr>\n",
       "      <th>6328</th>\n",
       "      <td>9337</td>\n",
       "      <td>Radio Derb Is On The Air–Leonardo And Brazil’s...</td>\n",
       "      <td></td>\n",
       "      <td>false</td>\n",
       "    </tr>\n",
       "    <tr>\n",
       "      <th>6329</th>\n",
       "      <td>8737</td>\n",
       "      <td>Assange claims ‘crazed’ Clinton campaign tried...</td>\n",
       "      <td>Julian Assange has claimed the Hillary Clinton...</td>\n",
       "      <td>false</td>\n",
       "    </tr>\n",
       "    <tr>\n",
       "      <th>6330</th>\n",
       "      <td>4490</td>\n",
       "      <td>State Department says it can't find emails fro...</td>\n",
       "      <td>The State Department told the Republican Natio...</td>\n",
       "      <td>true</td>\n",
       "    </tr>\n",
       "    <tr>\n",
       "      <th>6331</th>\n",
       "      <td>8062</td>\n",
       "      <td>The ‘P’ in PBS Should Stand for ‘Plutocratic’ ...</td>\n",
       "      <td>The ‘P’ in PBS Should Stand for ‘Plutocratic’ ...</td>\n",
       "      <td>false</td>\n",
       "    </tr>\n",
       "    <tr>\n",
       "      <th>6332</th>\n",
       "      <td>8622</td>\n",
       "      <td>Anti-Trump Protesters Are Tools of the Oligarc...</td>\n",
       "      <td>Anti-Trump Protesters Are Tools of the Oligar...</td>\n",
       "      <td>false</td>\n",
       "    </tr>\n",
       "    <tr>\n",
       "      <th>6333</th>\n",
       "      <td>4021</td>\n",
       "      <td>In Ethiopia, Obama seeks progress on peace, se...</td>\n",
       "      <td>ADDIS ABABA, Ethiopia —President Obama convene...</td>\n",
       "      <td>true</td>\n",
       "    </tr>\n",
       "    <tr>\n",
       "      <th>6334</th>\n",
       "      <td>4330</td>\n",
       "      <td>Jeb Bush Is Suddenly Attacking Trump. Here's W...</td>\n",
       "      <td>Jeb Bush Is Suddenly Attacking Trump. Here's W...</td>\n",
       "      <td>true</td>\n",
       "    </tr>\n",
       "  </tbody>\n",
       "</table>\n",
       "</div>"
      ],
      "text/plain": [
       "        id                                              title  \\\n",
       "6325  8411  Will the Media Reset After the Election or Are...   \n",
       "6326  6143  DOJ COMPLAINT: Comey Under Fire Over Partisan ...   \n",
       "6327  3262  GOP Senator David Perdue Jokes About Praying f...   \n",
       "6328  9337  Radio Derb Is On The Air–Leonardo And Brazil’s...   \n",
       "6329  8737  Assange claims ‘crazed’ Clinton campaign tried...   \n",
       "6330  4490  State Department says it can't find emails fro...   \n",
       "6331  8062  The ‘P’ in PBS Should Stand for ‘Plutocratic’ ...   \n",
       "6332  8622  Anti-Trump Protesters Are Tools of the Oligarc...   \n",
       "6333  4021  In Ethiopia, Obama seeks progress on peace, se...   \n",
       "6334  4330  Jeb Bush Is Suddenly Attacking Trump. Here's W...   \n",
       "\n",
       "                                                   text  label  \n",
       "6325  Written by Peter Van Buren   venerable New Yor...  false  \n",
       "6326  DOJ COMPLAINT: Comey Under Fire Over Partisan ...  false  \n",
       "6327  The freshman senator from Georgia quoted scrip...   true  \n",
       "6328                                                     false  \n",
       "6329  Julian Assange has claimed the Hillary Clinton...  false  \n",
       "6330  The State Department told the Republican Natio...   true  \n",
       "6331  The ‘P’ in PBS Should Stand for ‘Plutocratic’ ...  false  \n",
       "6332   Anti-Trump Protesters Are Tools of the Oligar...  false  \n",
       "6333  ADDIS ABABA, Ethiopia —President Obama convene...   true  \n",
       "6334  Jeb Bush Is Suddenly Attacking Trump. Here's W...   true  "
      ]
     },
     "execution_count": 160,
     "metadata": {},
     "output_type": "execute_result"
    }
   ],
   "source": [
    "df"
   ]
  },
  {
   "cell_type": "code",
   "execution_count": 164,
   "metadata": {},
   "outputs": [
    {
     "name": "stdout",
     "output_type": "stream",
     "text": [
      "Title: 403 - Forbidden | Access to this page is forbidden.\n",
      "\n",
      "Index: 6325, Model Decision: false, Actual Decision: false\n",
      "------------------------------------------------------------------------------------\n",
      "Title: An official website of the United States governmentHere's how you know\n",
      "Official websites use .gov\n",
      "\n",
      " \n",
      "Index: 6326, Model Decision: false, Actual Decision: false\n",
      "------------------------------------------------------------------------------------\n",
      "Title: SEARCHThe freshman senator from Georgia quoted scripture at a right-wing Christian confab to say the\n",
      "Index: 6327, Model Decision: true, Actual Decision: true\n",
      "------------------------------------------------------------------------------------\n",
      "Title: \n",
      "Index: 6328, Model Decision: false, Actual Decision: false\n",
      "------------------------------------------------------------------------------------\n",
      "Title: Campaign escalates charge that WikiLeaks is working with Russian state actors seeking to elect Donal\n",
      "Index: 6329, Model Decision: false, Actual Decision: false\n",
      "------------------------------------------------------------------------------------\n",
      "Title: \n",
      "      This material may not be published, broadcast, rewritten,\n",
      "      or redistributed. ©2024 FOX N\n",
      "Index: 6330, Model Decision: true, Actual Decision: true\n",
      "------------------------------------------------------------------------------------\n",
      "Title: \n",
      "PBS News Hour, previously stylized as PBS NewsHour, is an American evening television news program \n",
      "Index: 6331, Model Decision: false, Actual Decision: false\n",
      "------------------------------------------------------------------------------------\n",
      "Title: Protesters across the country are raising a range of concernsSome chant \"Dump Trump,\" while others s\n",
      "Index: 6332, Model Decision: false, Actual Decision: false\n",
      "------------------------------------------------------------------------------------\n",
      "Title: clockThis article was published more than 8 years agoADDIS ABABA, Ethiopia —President Obama convened\n",
      "Index: 6333, Model Decision: true, Actual Decision: true\n",
      "------------------------------------------------------------------------------------\n",
      "Title: By \n",
      "\n",
      "      Jessica Taylor\n",
      "    \n",
      "\n",
      "                Republican presidential candidate Donald Trump speak\n",
      "Index: 6334, Model Decision: true, Actual Decision: true\n",
      "------------------------------------------------------------------------------------\n",
      "Accuracy: 1.0\n",
      "Precision: 1.0\n",
      "Recall: 1.0\n",
      "F1 Score: 1.0\n"
     ]
    }
   ],
   "source": [
    "# Initialize lists to store predictions and actual values\n",
    "predictions = []\n",
    "actuals = []\n",
    "\n",
    "# Iterate over each row in the dataframe\n",
    "for index, row in df.iterrows():\n",
    "    model_decision = factCC(row['Headline'])\n",
    "    actual_decision = row['Label']\n",
    "    predictions.append(model_decision)\n",
    "    actuals.append(actual_decision)\n",
    "    print(f\"Index: {index}, Model Decision: {model_decision}, Actual Decision: {actual_decision}\")\n",
    "    print(f\"------------------------------------------------------------------------------------\")\n",
    "\n",
    "# Calculate the metrics\n",
    "accuracy = accuracy_score(actuals, predictions)\n",
    "precision = precision_score(actuals, predictions, pos_label=True)\n",
    "recall = recall_score(actuals, predictions, pos_label=True)\n",
    "f1 = f1_score(actuals, predictions, pos_label=True)\n",
    "\n",
    "print(f'Accuracy: {accuracy}')\n",
    "print(f'Precision: {precision}')\n",
    "print(f'Recall: {recall}')\n",
    "print(f'F1 Score: {f1}')\n"
   ]
  }
 ],
 "metadata": {
  "kernelspec": {
   "display_name": "Python 3",
   "language": "python",
   "name": "python3"
  },
  "language_info": {
   "codemirror_mode": {
    "name": "ipython",
    "version": 3
   },
   "file_extension": ".py",
   "mimetype": "text/x-python",
   "name": "python",
   "nbconvert_exporter": "python",
   "pygments_lexer": "ipython3",
   "version": "3.11.8"
  }
 },
 "nbformat": 4,
 "nbformat_minor": 2
}
