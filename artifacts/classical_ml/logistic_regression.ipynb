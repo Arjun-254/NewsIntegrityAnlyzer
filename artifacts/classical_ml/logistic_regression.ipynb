{
 "cells": [
  {
   "cell_type": "code",
   "execution_count": 1,
   "metadata": {},
   "outputs": [],
   "source": [
    "# Import necessary libraries\n",
    "import pandas as pd\n",
    "import numpy as np\n",
    "from sklearn.model_selection import train_test_split\n",
    "from sklearn.feature_extraction.text import TfidfVectorizer\n",
    "from sklearn.linear_model import LogisticRegression\n",
    "from sklearn.metrics import accuracy_score, precision_score, recall_score, f1_score, confusion_matrix\n",
    "import nltk\n",
    "from nltk.corpus import stopwords\n",
    "from nltk.tokenize import word_tokenize\n",
    "from nltk.stem import WordNetLemmatizer"
   ]
  },
  {
   "cell_type": "code",
   "execution_count": 2,
   "metadata": {},
   "outputs": [
    {
     "name": "stderr",
     "output_type": "stream",
     "text": [
      "[nltk_data] Downloading package punkt to /Users/ameet/nltk_data...\n",
      "[nltk_data]   Package punkt is already up-to-date!\n",
      "[nltk_data] Downloading package stopwords to /Users/ameet/nltk_data...\n",
      "[nltk_data]   Package stopwords is already up-to-date!\n",
      "[nltk_data] Downloading package wordnet to /Users/ameet/nltk_data...\n",
      "[nltk_data]   Package wordnet is already up-to-date!\n"
     ]
    },
    {
     "data": {
      "text/plain": [
       "True"
      ]
     },
     "execution_count": 2,
     "metadata": {},
     "output_type": "execute_result"
    }
   ],
   "source": [
    "# Download required NLTK datasets\n",
    "nltk.download('punkt')\n",
    "nltk.download('stopwords')\n",
    "nltk.download('wordnet')"
   ]
  },
  {
   "cell_type": "code",
   "execution_count": 3,
   "metadata": {},
   "outputs": [],
   "source": [
    "# Function to clean and preprocess text data\n",
    "def clean_words(new_tokens):\n",
    "    new_tokens = [t.lower() for t in new_tokens]\n",
    "    stop_words = set(stopwords.words('english'))\n",
    "    new_tokens = [t for t in new_tokens if t not in stop_words]\n",
    "    new_tokens = [t for t in new_tokens if t.isalpha()]\n",
    "    lemmatizer = WordNetLemmatizer()\n",
    "    new_tokens = [lemmatizer.lemmatize(t) for t in new_tokens]\n",
    "    return new_tokens"
   ]
  },
  {
   "cell_type": "code",
   "execution_count": 4,
   "metadata": {},
   "outputs": [],
   "source": [
    "df = pd.read_csv('../Liar.csv')  # Read the Liar Dataset CSV "
   ]
  },
  {
   "cell_type": "code",
   "execution_count": 5,
   "metadata": {},
   "outputs": [],
   "source": [
    "# Create a custom mapping for the labels for binary classification\n",
    "label_mapping = {\n",
    "    'true': True,\n",
    "    'mostly-true': True,\n",
    "    'half-true': True,\n",
    "    'barely-true': False,\n",
    "    'false': False,\n",
    "    'pants-fire': False\n",
    "}\n",
    "\n",
    "df['label'] = df['label'].map(label_mapping)\n"
   ]
  },
  {
   "cell_type": "code",
   "execution_count": 6,
   "metadata": {},
   "outputs": [
    {
     "data": {
      "text/plain": [
       "label\n",
       "True     7133\n",
       "False    5655\n",
       "Name: count, dtype: int64"
      ]
     },
     "execution_count": 6,
     "metadata": {},
     "output_type": "execute_result"
    }
   ],
   "source": [
    "df['label'].value_counts()"
   ]
  },
  {
   "cell_type": "code",
   "execution_count": 7,
   "metadata": {},
   "outputs": [
    {
     "name": "stdout",
     "output_type": "stream",
     "text": [
      "All values in df['label'] are boolean (True/False).\n"
     ]
    }
   ],
   "source": [
    "# Check if all values in df['label'] are boolean\n",
    "all_boolean = df['label'].apply(lambda x: isinstance(x, bool)).all()\n",
    "\n",
    "if all_boolean:\n",
    "    print(\"All values in df['label'] are boolean (True/False).\")\n",
    "else:\n",
    "    print(\"Not all values in df['label'] are boolean. There may be other data types present.\")"
   ]
  },
  {
   "cell_type": "code",
   "execution_count": 8,
   "metadata": {},
   "outputs": [],
   "source": [
    "df_test_set = pd.read_csv('../Test_dataset(FINAL).csv')"
   ]
  },
  {
   "cell_type": "code",
   "execution_count": 9,
   "metadata": {},
   "outputs": [
    {
     "name": "stdout",
     "output_type": "stream",
     "text": [
      "All values in df['label'] are boolean (True/False).\n"
     ]
    }
   ],
   "source": [
    "# Check if all values in df_test_set['Label'] are also boolean\n",
    "all_boolean = df_test_set['Label'].apply(lambda x: isinstance(x, bool)).all()\n",
    "\n",
    "if all_boolean:\n",
    "    print(\"All values in df['label'] are boolean (True/False).\")\n",
    "else:\n",
    "    print(\"Not all values in df['label'] are boolean. There may be other data types present.\")"
   ]
  },
  {
   "cell_type": "code",
   "execution_count": 12,
   "metadata": {},
   "outputs": [
    {
     "name": "stdout",
     "output_type": "stream",
     "text": [
      "LogisticRegression Model Accuracy on Test Set: 50.00%\n",
      "Precision: 0.50\n",
      "Recall: 0.59\n",
      "F1-Score: 0.54\n",
      "\n",
      "Confusion Matrix:\n",
      "[[142 202]\n",
      " [142 202]]\n"
     ]
    }
   ],
   "source": [
    "# Step 1: Clean and vectorize the entire training dataset\n",
    "X = [' '.join(clean_words(word_tokenize(text))) for text in df['statement']]\n",
    "y = df['label']\n",
    "\n",
    "vectorizer = TfidfVectorizer(stop_words='english', max_df=0.7)\n",
    "X_vectorized = vectorizer.fit_transform(X)\n",
    "\n",
    "# Step 2: Train the model on the entire dataset\n",
    "clf = LogisticRegression(max_iter=1000)\n",
    "clf.fit(X_vectorized, y)\n",
    "\n",
    "# Step 3: Clean and vectorize the test set (df_test_set)\n",
    "df_test_set['cleaned_headline'] = df_test_set['Headline'].apply(lambda x: ' '.join(clean_words(word_tokenize(x))))\n",
    "X_test_set_vectorized = vectorizer.transform(df_test_set['cleaned_headline'])\n",
    "\n",
    "# Step 4: Predict the labels for the test set and evaluate the model\n",
    "y_test_set = df_test_set['Label']\n",
    "y_test_set_pred = clf.predict(X_test_set_vectorized)\n",
    "\n",
    "# Step 5: Print classification metrics separately\n",
    "accuracy = accuracy_score(y_test_set, y_test_set_pred)\n",
    "print(f\"LogisticRegression Model Accuracy on Test Set: {accuracy * 100:.2f}%\")\n",
    "\n",
    "precision = precision_score(y_test_set, y_test_set_pred)\n",
    "recall = recall_score(y_test_set, y_test_set_pred)\n",
    "f1 = f1_score(y_test_set, y_test_set_pred)\n",
    "\n",
    "print(f\"Precision: {precision:.2f}\")\n",
    "print(f\"Recall: {recall:.2f}\")\n",
    "print(f\"F1-Score: {f1:.2f}\")\n",
    "\n",
    "conf_matrix = confusion_matrix(y_test_set, y_test_set_pred)\n",
    "\n",
    "print(\"\\nConfusion Matrix:\")\n",
    "print(conf_matrix)\n"
   ]
  },
  {
   "cell_type": "code",
   "execution_count": 11,
   "metadata": {},
   "outputs": [
    {
     "name": "stdout",
     "output_type": "stream",
     "text": [
      "Prediction for the headline: True\n",
      "Confidence: 0.54\n"
     ]
    }
   ],
   "source": [
    "def predict_headline(headline, vectorizer, model):\n",
    "    # Clean and preprocess the headline\n",
    "    cleaned_headline = ' '.join(clean_words(word_tokenize(headline)))\n",
    "    headline_vectorized = vectorizer.transform([cleaned_headline])\n",
    "    prediction = model.predict(headline_vectorized)[0]\n",
    "    probability = model.predict_proba(headline_vectorized)[0]\n",
    "    result = \"True\" if prediction else \"False\"\n",
    "    confidence = probability[1] if prediction else probability[0]\n",
    "    return result, confidence\n",
    "\n",
    "# Example usage\n",
    "headline = \"Angela Carini triumphs in Olympic bout, defeating Imane Khelif in a record 46 seconds.\"\n",
    "result, confidence = predict_headline(headline, vectorizer, clf)\n",
    "print(f\"Prediction for the headline: {result}\")\n",
    "print(f\"Confidence: {confidence:.2f}\")"
   ]
  }
 ],
 "metadata": {
  "kernelspec": {
   "display_name": "Python 3",
   "language": "python",
   "name": "python3"
  },
  "language_info": {
   "codemirror_mode": {
    "name": "ipython",
    "version": 3
   },
   "file_extension": ".py",
   "mimetype": "text/x-python",
   "name": "python",
   "nbconvert_exporter": "python",
   "pygments_lexer": "ipython3",
   "version": "3.11.8"
  }
 },
 "nbformat": 4,
 "nbformat_minor": 2
}
