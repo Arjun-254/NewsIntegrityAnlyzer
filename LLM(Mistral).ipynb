{
 "cells": [
  {
   "cell_type": "code",
   "execution_count": 7,
   "metadata": {},
   "outputs": [
    {
     "name": "stderr",
     "output_type": "stream",
     "text": [
      "Fetching 12 files: 100%|██████████| 12/12 [00:00<00:00, 190650.18it/s]\n"
     ]
    }
   ],
   "source": [
    "from mlx_lm import load, generate\n",
    "\n",
    "model, tokenizer = load(\"mistralai/Mistral-7B-Instruct-v0.3\")"
   ]
  },
  {
   "cell_type": "code",
   "execution_count": 2,
   "metadata": {},
   "outputs": [
    {
     "data": {
      "text/plain": [
       "'2024 T20 World Cup winner: Is India the champion?'"
      ]
     },
     "execution_count": 2,
     "metadata": {},
     "output_type": "execute_result"
    }
   ],
   "source": [
    "input = f'''<\\s>[INST] You're tasked with fact-checking news headlines for accuracy. \n",
    "Given a headline, generate 1 question that needs to be true to verify the \n",
    "headlines authenticity using a Google search to scrape the answer from the quick search box. \n",
    "Ask the crucial questions first. Your output should only be one question in string for me to ingest in my backend without any other text.\n",
    "The headline is : India wins 2024 t20 world cup< [/INST] '''\n",
    "response = generate(model, tokenizer, prompt=input)\n",
    "# response = response.replace('<|end|>','')\n",
    "response"
   ]
  },
  {
   "cell_type": "code",
   "execution_count": 8,
   "metadata": {},
   "outputs": [
    {
     "data": {
      "text/plain": [
       "'Alien DNA Tests Take Weeks, Threatening Human Existence. New Method Could Instantly Diagnose Aliens, Saving Millions of Lives'"
      ]
     },
     "execution_count": 8,
     "metadata": {},
     "output_type": "execute_result"
    }
   ],
   "source": [
    "input = f'''<\\s>[INST]Given the true headline below, change multiple named entities, numbers, and facts to create a fake news headline. \n",
    "The output should be only the new, incorrect headline for evaluating my fake news model.\n",
    "\n",
    "Headline :  Sepsis tests take days  putting patients at risk. A new method may cut wait time< [/INST] '''\n",
    "response = generate(model, tokenizer, prompt=input)\n",
    "# response = response.replace('<|end|>','')\n",
    "response"
   ]
  }
 ],
 "metadata": {
  "kernelspec": {
   "display_name": "Python 3",
   "language": "python",
   "name": "python3"
  },
  "language_info": {
   "codemirror_mode": {
    "name": "ipython",
    "version": 3
   },
   "file_extension": ".py",
   "mimetype": "text/x-python",
   "name": "python",
   "nbconvert_exporter": "python",
   "pygments_lexer": "ipython3",
   "version": "3.11.8"
  }
 },
 "nbformat": 4,
 "nbformat_minor": 2
}
