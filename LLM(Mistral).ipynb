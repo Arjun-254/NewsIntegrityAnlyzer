{
 "cells": [
  {
   "cell_type": "code",
   "execution_count": 3,
   "metadata": {},
   "outputs": [
    {
     "name": "stderr",
     "output_type": "stream",
     "text": [
      "Fetching 12 files: 100%|██████████| 12/12 [00:00<00:00, 50231.19it/s]\n"
     ]
    }
   ],
   "source": [
    "from mlx_lm import load, generate\n",
    "\n",
    "model, tokenizer = load(\"mistralai/Mistral-7B-Instruct-v0.3\")"
   ]
  },
  {
   "cell_type": "code",
   "execution_count": 4,
   "metadata": {},
   "outputs": [
    {
     "data": {
      "text/plain": [
       "\"In the RIP (Required, Invariant, Partition) model of mutation testing, we introduce three types of mutations:\\n\\n1. Required Mutations: These are mutations that are necessary to change the behavior of the program. In this case, we don't have any required mutations because the original code doesn't have any statements that can be removed without changing the behavior.\\n\\n2. Invariant Mutations: These are mutations that do not change the\""
      ]
     },
     "execution_count": 4,
     "metadata": {},
     "output_type": "execute_result"
    }
   ],
   "source": [
    "input = '''<\\s>[INST] \n",
    "Using the RIP model of mutation testing, determine if the mutant code is equivalent to the original.\n",
    "\n",
    "Original :\n",
    "/**\n",
    "     * Returns the fully qualified name for the resource with name {@code resourceName} relative to the given context.\n",
    "     *\n",
    "     * <p>\n",
    "     * Note that this method does not check whether the resource actually exists. It only constructs the name. Null inputs are not allowed.\n",
    "     * </p>\n",
    "     *\n",
    "     * <pre>\n",
    "     * ClassPathUtils.toFullyQualifiedName(StringUtils.class, \"StringUtils.properties\") = \"org.apache.commons.lang3.StringUtils.properties\"\n",
    "     * </pre>\n",
    "     *\n",
    "     * @param context      The context for constructing the name.\n",
    "     * @param resourceName the resource name to construct the fully qualified name for.\n",
    "     * @return the fully qualified name of the resource with name {@code resourceName}.\n",
    "     * @throws NullPointerException if either {@code context} or {@code resourceName} is null.\n",
    "     */\n",
    "    public static String toFullyQualifiedName(final Class<?> context, final String resourceName) {\n",
    "        Objects.requireNonNull(context, \"context\");\n",
    "        Objects.requireNonNull(resourceName, \"resourceName\");\n",
    "        return toFullyQualifiedName(context.getPackage(), resourceName);\n",
    "    }\n",
    "\n",
    "Mutant :\n",
    "< [/INST] '''\n",
    "response = generate(model, tokenizer, prompt=input)\n",
    "# response = response.replace('<|end|>','')\n",
    "response"
   ]
  },
  {
   "cell_type": "code",
   "execution_count": null,
   "metadata": {},
   "outputs": [
    {
     "data": {
      "text/plain": [
       "'Alien DNA Tests Take Weeks, Threatening Human Existence. New Method Could Instantly Diagnose Aliens, Saving Millions of Lives'"
      ]
     },
     "execution_count": 8,
     "metadata": {},
     "output_type": "execute_result"
    }
   ],
   "source": [
    "input = f'''<\\s>[INST]Given the true headline below, change multiple named entities, numbers, and facts to create a fake news headline. \n",
    "The output should be only the new, incorrect headline for evaluating my fake news model.\n",
    "\n",
    "Headline :  Sepsis tests take days  putting patients at risk. A new method may cut wait time< [/INST] '''\n",
    "response = generate(model, tokenizer, prompt=input)\n",
    "# response = response.replace('<|end|>','')\n",
    "response"
   ]
  },
  {
   "cell_type": "code",
   "execution_count": null,
   "metadata": {},
   "outputs": [],
   "source": []
  }
 ],
 "metadata": {
  "kernelspec": {
   "display_name": "Python 3",
   "language": "python",
   "name": "python3"
  },
  "language_info": {
   "codemirror_mode": {
    "name": "ipython",
    "version": 3
   },
   "file_extension": ".py",
   "mimetype": "text/x-python",
   "name": "python",
   "nbconvert_exporter": "python",
   "pygments_lexer": "ipython3",
   "version": "3.11.8"
  }
 },
 "nbformat": 4,
 "nbformat_minor": 2
}
