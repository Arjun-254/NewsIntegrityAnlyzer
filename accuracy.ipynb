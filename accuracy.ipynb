{
 "cells": [
  {
   "cell_type": "code",
   "execution_count": 2,
   "metadata": {},
   "outputs": [],
   "source": [
    "import pandas as pd"
   ]
  },
  {
   "cell_type": "code",
   "execution_count": 3,
   "metadata": {},
   "outputs": [
    {
     "data": {
      "text/html": [
       "<div>\n",
       "<style scoped>\n",
       "    .dataframe tbody tr th:only-of-type {\n",
       "        vertical-align: middle;\n",
       "    }\n",
       "\n",
       "    .dataframe tbody tr th {\n",
       "        vertical-align: top;\n",
       "    }\n",
       "\n",
       "    .dataframe thead th {\n",
       "        text-align: right;\n",
       "    }\n",
       "</style>\n",
       "<table border=\"1\" class=\"dataframe\">\n",
       "  <thead>\n",
       "    <tr style=\"text-align: right;\">\n",
       "      <th></th>\n",
       "      <th>Headline</th>\n",
       "      <th>Scraped_Content</th>\n",
       "      <th>Question_phi</th>\n",
       "      <th>Model Decision</th>\n",
       "      <th>Actual Decision</th>\n",
       "    </tr>\n",
       "  </thead>\n",
       "  <tbody>\n",
       "    <tr>\n",
       "      <th>0</th>\n",
       "      <td>\"Despite resistance to 'locals', Meghalaya Cab...</td>\n",
       "      <td>How many cabinet ministers are there in Meghal...</td>\n",
       "      <td>\"What are the recent developments in Meghalaya...</td>\n",
       "      <td>True</td>\n",
       "      <td>False</td>\n",
       "    </tr>\n",
       "    <tr>\n",
       "      <th>1</th>\n",
       "      <td>The U.S. now has a drug for severe frostbite. ...</td>\n",
       "      <td>Cannot retrieve articles, most likely to be false</td>\n",
       "      <td>\"What is the name of the drug developed by the...</td>\n",
       "      <td>False</td>\n",
       "      <td>True</td>\n",
       "    </tr>\n",
       "    <tr>\n",
       "      <th>2</th>\n",
       "      <td>\"NATO praises China as a 'supportive ally' in ...</td>\n",
       "      <td>Why are NATO and China facing off over Ukraine...</td>\n",
       "      <td>\"Has NATO publicly praised China as a 'support...</td>\n",
       "      <td>True</td>\n",
       "      <td>False</td>\n",
       "    </tr>\n",
       "    <tr>\n",
       "      <th>3</th>\n",
       "      <td>Pawan Kalyan takes charge as Andhra Pradesh de...</td>\n",
       "      <td>Cannot retrieve articles, most likely to be false</td>\n",
       "      <td>\"Who is the current deputy chief minister of A...</td>\n",
       "      <td>False</td>\n",
       "      <td>True</td>\n",
       "    </tr>\n",
       "    <tr>\n",
       "      <th>4</th>\n",
       "      <td>\"Tajinderpal Singh Toor, Jyothi Yarraji exclud...</td>\n",
       "      <td>How many medals has India won in Asian indoor ...</td>\n",
       "      <td>\"What are the reasons for Tajinderpal Singh To...</td>\n",
       "      <td>False</td>\n",
       "      <td>False</td>\n",
       "    </tr>\n",
       "    <tr>\n",
       "      <th>...</th>\n",
       "      <td>...</td>\n",
       "      <td>...</td>\n",
       "      <td>...</td>\n",
       "      <td>...</td>\n",
       "      <td>...</td>\n",
       "    </tr>\n",
       "    <tr>\n",
       "      <th>687</th>\n",
       "      <td>I've accomplished way more than my wildest dre...</td>\n",
       "      <td>Cannot retrieve articles, most likely to be false</td>\n",
       "      <td>\"What were Simone Biles' achievements in the f...</td>\n",
       "      <td>False</td>\n",
       "      <td>True</td>\n",
       "    </tr>\n",
       "    <tr>\n",
       "      <th>688</th>\n",
       "      <td>Fans condemn Kriti Sanon for viral 'smoking' v...</td>\n",
       "      <td>Cannot retrieve articles, most likely to be false</td>\n",
       "      <td>\"What is the public's reaction to Kriti Sanon'...</td>\n",
       "      <td>False</td>\n",
       "      <td>False</td>\n",
       "    </tr>\n",
       "    <tr>\n",
       "      <th>689</th>\n",
       "      <td>‘Atheist’ SS Rajamouli reveals he didn’t pray ...</td>\n",
       "      <td>Being an atheist, SS Rajamouli shares harrowin...</td>\n",
       "      <td>\"Did Atheist SS Rajamouli publicly state he di...</td>\n",
       "      <td>True</td>\n",
       "      <td>True</td>\n",
       "    </tr>\n",
       "    <tr>\n",
       "      <th>690</th>\n",
       "      <td>Ex-F1 boss Bernie Ecclestone spared jail after...</td>\n",
       "      <td>The 92-year-old billionaire agreed to a civil ...</td>\n",
       "      <td>\"What was the outcome of Bernie Ecclestone's t...</td>\n",
       "      <td>False</td>\n",
       "      <td>True</td>\n",
       "    </tr>\n",
       "    <tr>\n",
       "      <th>691</th>\n",
       "      <td>Rob Burrow, Rugby Star and A.L.S. Campaigner, ...</td>\n",
       "      <td>Cannot retrieve articles, most likely to be false</td>\n",
       "      <td>\"What is the cause of death for Rob Burrow, th...</td>\n",
       "      <td>False</td>\n",
       "      <td>True</td>\n",
       "    </tr>\n",
       "  </tbody>\n",
       "</table>\n",
       "<p>692 rows × 5 columns</p>\n",
       "</div>"
      ],
      "text/plain": [
       "                                              Headline  \\\n",
       "0    \"Despite resistance to 'locals', Meghalaya Cab...   \n",
       "1    The U.S. now has a drug for severe frostbite. ...   \n",
       "2    \"NATO praises China as a 'supportive ally' in ...   \n",
       "3    Pawan Kalyan takes charge as Andhra Pradesh de...   \n",
       "4    \"Tajinderpal Singh Toor, Jyothi Yarraji exclud...   \n",
       "..                                                 ...   \n",
       "687  I've accomplished way more than my wildest dre...   \n",
       "688  Fans condemn Kriti Sanon for viral 'smoking' v...   \n",
       "689  ‘Atheist’ SS Rajamouli reveals he didn’t pray ...   \n",
       "690  Ex-F1 boss Bernie Ecclestone spared jail after...   \n",
       "691  Rob Burrow, Rugby Star and A.L.S. Campaigner, ...   \n",
       "\n",
       "                                       Scraped_Content  \\\n",
       "0    How many cabinet ministers are there in Meghal...   \n",
       "1    Cannot retrieve articles, most likely to be false   \n",
       "2    Why are NATO and China facing off over Ukraine...   \n",
       "3    Cannot retrieve articles, most likely to be false   \n",
       "4    How many medals has India won in Asian indoor ...   \n",
       "..                                                 ...   \n",
       "687  Cannot retrieve articles, most likely to be false   \n",
       "688  Cannot retrieve articles, most likely to be false   \n",
       "689  Being an atheist, SS Rajamouli shares harrowin...   \n",
       "690  The 92-year-old billionaire agreed to a civil ...   \n",
       "691  Cannot retrieve articles, most likely to be false   \n",
       "\n",
       "                                          Question_phi  Model Decision  \\\n",
       "0    \"What are the recent developments in Meghalaya...            True   \n",
       "1    \"What is the name of the drug developed by the...           False   \n",
       "2    \"Has NATO publicly praised China as a 'support...            True   \n",
       "3    \"Who is the current deputy chief minister of A...           False   \n",
       "4    \"What are the reasons for Tajinderpal Singh To...           False   \n",
       "..                                                 ...             ...   \n",
       "687  \"What were Simone Biles' achievements in the f...           False   \n",
       "688  \"What is the public's reaction to Kriti Sanon'...           False   \n",
       "689  \"Did Atheist SS Rajamouli publicly state he di...            True   \n",
       "690  \"What was the outcome of Bernie Ecclestone's t...           False   \n",
       "691  \"What is the cause of death for Rob Burrow, th...           False   \n",
       "\n",
       "     Actual Decision  \n",
       "0              False  \n",
       "1               True  \n",
       "2              False  \n",
       "3               True  \n",
       "4              False  \n",
       "..               ...  \n",
       "687             True  \n",
       "688            False  \n",
       "689             True  \n",
       "690             True  \n",
       "691             True  \n",
       "\n",
       "[692 rows x 5 columns]"
      ]
     },
     "execution_count": 3,
     "metadata": {},
     "output_type": "execute_result"
    }
   ],
   "source": [
    "df = pd.read_csv('artifacts/Pipeline_LLM(Phi).csv',delimiter='|')\n",
    "df.drop(columns=['Index'], inplace=True)\n",
    "df"
   ]
  },
  {
   "cell_type": "code",
   "execution_count": 5,
   "metadata": {},
   "outputs": [],
   "source": [
    "df['Headline'] = df['Headline'].str.strip(\"'\\\"\")"
   ]
  },
  {
   "cell_type": "code",
   "execution_count": 8,
   "metadata": {},
   "outputs": [
    {
     "data": {
      "text/plain": [
       "Headline\n",
       "Bone marrow in the skull could be used to monitor Alzheimer’s  MS and more                                                2\n",
       "SC sub-classification: Dalit leader claims 'Verdict will harm a hundred generations of Madigas, other oppressed castes    2\n",
       "Australia stunned hosts India in Ahmedabad to win the men's Cricket World Cup for a sixth time.                           2\n",
       "Taco Bell to roll out AI drive-thru ordering in hundreds of locations by end of year                                      2\n",
       "Reliance Industries' AGM on August 29, company picks August 19 as record date for dividend                                2\n",
       "                                                                                                                         ..\n",
       " Spacecraft crashed on an asteroid with a clear and well-documented origin.                                               1\n",
       "Cardi B denies being pregnant with a fourth child amidst rumors.                                                          1\n",
       "Rahul Gandhi to retain Wayanad Lok Sabha seat                                                                             1\n",
       "Olympic Champion Simone Biles Posted on Social Media That She Loves her ‘Black Job’                                       1\n",
       "Rob Burrow, Rugby Star and A.L.S. Campaigner, Dies at 41                                                                  1\n",
       "Name: count, Length: 685, dtype: int64"
      ]
     },
     "execution_count": 8,
     "metadata": {},
     "output_type": "execute_result"
    }
   ],
   "source": [
    "df['Headline'].value_counts()"
   ]
  },
  {
   "cell_type": "code",
   "execution_count": 87,
   "metadata": {},
   "outputs": [
    {
     "data": {
      "text/html": [
       "<div>\n",
       "<style scoped>\n",
       "    .dataframe tbody tr th:only-of-type {\n",
       "        vertical-align: middle;\n",
       "    }\n",
       "\n",
       "    .dataframe tbody tr th {\n",
       "        vertical-align: top;\n",
       "    }\n",
       "\n",
       "    .dataframe thead th {\n",
       "        text-align: right;\n",
       "    }\n",
       "</style>\n",
       "<table border=\"1\" class=\"dataframe\">\n",
       "  <thead>\n",
       "    <tr style=\"text-align: right;\">\n",
       "      <th></th>\n",
       "      <th>Headline</th>\n",
       "      <th>Scraped Content</th>\n",
       "      <th>Model Decision</th>\n",
       "      <th>Actual Decision</th>\n",
       "    </tr>\n",
       "  </thead>\n",
       "  <tbody>\n",
       "    <tr>\n",
       "      <th>0</th>\n",
       "      <td>Putin's Hungarian ally Orban ignores EU fury o...</td>\n",
       "      <td>Cannot retrieve articles, most likely to be false</td>\n",
       "      <td>False</td>\n",
       "      <td>False</td>\n",
       "    </tr>\n",
       "    <tr>\n",
       "      <th>1</th>\n",
       "      <td>Oscar Piastri wins his first ever F1 Grand Pri...</td>\n",
       "      <td>Oscar Piastri has taken his debut Grand Prix v...</td>\n",
       "      <td>True</td>\n",
       "      <td>True</td>\n",
       "    </tr>\n",
       "    <tr>\n",
       "      <th>2</th>\n",
       "      <td>Monday chaos: Global calm boosts Sensex, Nifty...</td>\n",
       "      <td>Which stocks affect Nifty most? Nifty Options ...</td>\n",
       "      <td>False</td>\n",
       "      <td>False</td>\n",
       "    </tr>\n",
       "    <tr>\n",
       "      <th>3</th>\n",
       "      <td>Judge Chutkan might not be able to restart the...</td>\n",
       "      <td>This www.cnn.com page can’t be found  No webpa...</td>\n",
       "      <td>False</td>\n",
       "      <td>False</td>\n",
       "    </tr>\n",
       "    <tr>\n",
       "      <th>4</th>\n",
       "      <td>Reliance Industries' AGM on August 29, company...</td>\n",
       "      <td>The company has set August 19 as the record da...</td>\n",
       "      <td>False</td>\n",
       "      <td>True</td>\n",
       "    </tr>\n",
       "  </tbody>\n",
       "</table>\n",
       "</div>"
      ],
      "text/plain": [
       "                                            Headline  \\\n",
       "0  Putin's Hungarian ally Orban ignores EU fury o...   \n",
       "1  Oscar Piastri wins his first ever F1 Grand Pri...   \n",
       "2  Monday chaos: Global calm boosts Sensex, Nifty...   \n",
       "3  Judge Chutkan might not be able to restart the...   \n",
       "4  Reliance Industries' AGM on August 29, company...   \n",
       "\n",
       "                                     Scraped Content  Model Decision  \\\n",
       "0  Cannot retrieve articles, most likely to be false           False   \n",
       "1  Oscar Piastri has taken his debut Grand Prix v...            True   \n",
       "2  Which stocks affect Nifty most? Nifty Options ...           False   \n",
       "3  This www.cnn.com page can’t be found  No webpa...           False   \n",
       "4  The company has set August 19 as the record da...           False   \n",
       "\n",
       "   Actual Decision  \n",
       "0            False  \n",
       "1             True  \n",
       "2            False  \n",
       "3            False  \n",
       "4             True  "
      ]
     },
     "execution_count": 87,
     "metadata": {},
     "output_type": "execute_result"
    }
   ],
   "source": [
    "df.head()"
   ]
  },
  {
   "cell_type": "code",
   "execution_count": 88,
   "metadata": {},
   "outputs": [
    {
     "data": {
      "text/plain": [
       "Model Decision\n",
       "False    444\n",
       "True     242\n",
       "Name: count, dtype: int64"
      ]
     },
     "execution_count": 88,
     "metadata": {},
     "output_type": "execute_result"
    }
   ],
   "source": [
    "df['Model Decision'].value_counts()"
   ]
  },
  {
   "cell_type": "code",
   "execution_count": 89,
   "metadata": {},
   "outputs": [
    {
     "data": {
      "text/plain": [
       "Actual Decision\n",
       "True     344\n",
       "False    342\n",
       "Name: count, dtype: int64"
      ]
     },
     "execution_count": 89,
     "metadata": {},
     "output_type": "execute_result"
    }
   ],
   "source": [
    "df['Actual Decision'].value_counts()"
   ]
  },
  {
   "cell_type": "code",
   "execution_count": 90,
   "metadata": {},
   "outputs": [
    {
     "data": {
      "text/plain": [
       "(686, 4)"
      ]
     },
     "execution_count": 90,
     "metadata": {},
     "output_type": "execute_result"
    }
   ],
   "source": [
    "df.shape"
   ]
  },
  {
   "cell_type": "code",
   "execution_count": 91,
   "metadata": {},
   "outputs": [
    {
     "data": {
      "text/plain": [
       "Index(['Headline', 'Scraped Content', 'Model Decision', 'Actual Decision'], dtype='object')"
      ]
     },
     "execution_count": 91,
     "metadata": {},
     "output_type": "execute_result"
    }
   ],
   "source": [
    "df.columns"
   ]
  },
  {
   "cell_type": "code",
   "execution_count": 92,
   "metadata": {},
   "outputs": [
    {
     "name": "stdout",
     "output_type": "stream",
     "text": [
      "Accuracy: 65.01458\n",
      "Precision: 0.71488\n",
      "Recall: 0.50291\n",
      "F1 Score: 0.59044\n",
      "Confusion Matrix:\n",
      "[[273  69]\n",
      " [171 173]]\n"
     ]
    }
   ],
   "source": [
    "import matplotlib.pyplot as plt\n",
    "import seaborn as sns\n",
    "from sklearn.metrics import accuracy_score, precision_score, recall_score, f1_score, confusion_matrix\n",
    "\n",
    "# Assuming df['Model Decision'] contains the predicted labels and df['Actual Decision'] contains the true labels\n",
    "y_true = df['Actual Decision']\n",
    "y_pred = df['Model Decision']\n",
    "\n",
    "# Calculate accuracy, precision, recall, and F1 score\n",
    "accuracy = accuracy_score(y_true, y_pred) * 100\n",
    "precision = precision_score(y_true, y_pred, average='binary')  # Use 'binary' for binary classification\n",
    "recall = recall_score(y_true, y_pred, average='binary')\n",
    "f1 = f1_score(y_true, y_pred, average='binary')\n",
    "\n",
    "# Print the scores\n",
    "print(f'Accuracy: {accuracy:.5f}')\n",
    "print(f'Precision: {precision:.5f}')\n",
    "print(f'Recall: {recall:.5f}')\n",
    "print(f'F1 Score: {f1:.5f}')\n",
    "\n",
    "# Generate the confusion matrix\n",
    "conf_matrix = confusion_matrix(y_true, y_pred)\n",
    "print('Confusion Matrix:')\n",
    "print(conf_matrix)\n",
    "plt.show()"
   ]
  }
 ],
 "metadata": {
  "kernelspec": {
   "display_name": "Python 3",
   "language": "python",
   "name": "python3"
  },
  "language_info": {
   "codemirror_mode": {
    "name": "ipython",
    "version": 3
   },
   "file_extension": ".py",
   "mimetype": "text/x-python",
   "name": "python",
   "nbconvert_exporter": "python",
   "pygments_lexer": "ipython3",
   "version": "3.11.8"
  }
 },
 "nbformat": 4,
 "nbformat_minor": 2
}
